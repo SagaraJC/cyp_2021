{
  "nbformat": 4,
  "nbformat_minor": 0,
  "metadata": {
    "colab": {
      "name": "05/01/20_CyP.ipynb",
      "provenance": [],
      "authorship_tag": "ABX9TyPdLr89hXKtaIqujORdBEak",
      "include_colab_link": true
    },
    "kernelspec": {
      "name": "python3",
      "display_name": "Python 3"
    }
  },
  "cells": [
    {
      "cell_type": "markdown",
      "metadata": {
        "id": "view-in-github",
        "colab_type": "text"
      },
      "source": [
        "<a href=\"https://colab.research.google.com/github/SagaraJC/cyp_2021/blob/main/05_01_20_CyP.ipynb\" target=\"_parent\"><img src=\"https://colab.research.google.com/assets/colab-badge.svg\" alt=\"Open In Colab\"/></a>"
      ]
    },
    {
      "cell_type": "code",
      "metadata": {
        "id": "Mc_H2I-jjFJX"
      },
      "source": [
        "#Arreglos unidimensionales\r\n",
        "\r\n",
        "sueldos = [0.0 for x in range (7)]\r\n",
        "print(sueldos)\r\n",
        "sueldos[0] = 12.3\r\n",
        "sueldos[1] = 32.3\r\n",
        "sueldos[2] = 42.3\r\n",
        "sueldos[3] = 11.3\r\n",
        "sueldos[4] = 77.3\r\n",
        "sueldos[5] = 88.3\r\n",
        "sueldos[6] = 99.3\r\n",
        "print(sueldos)\r\n",
        "#Como hacer para asignarles valor de el 1.0 al 7.0? :\r\n",
        "\"\"\"\r\n",
        "s=[0.0 for x in range(7)] #generador de python\r\n",
        "for j in range(7):\r\n",
        "  s[j]=float(input(\"Introduce un sueldo:\"))\r\n",
        "print(s)\r\n",
        "\r\n",
        "\"\"\"\r\n",
        "#Otra solución\r\n",
        "sueldo = [float(x) for x in range(7)]\r\n",
        "for i in range(0 , 7):\r\n",
        "  sueldo[i] = float(i) + 1.0\r\n",
        "#Automatizar el recorrido de los elementos del arreglo ahora que son contiguos:\r\n",
        "for i in range(7):\r\n",
        "  print(f\"El trabajador {int(i) + 1} gana ${sueldo[i]}\""
      ],
      "execution_count": null,
      "outputs": []
    },
    {
      "cell_type": "code",
      "metadata": {
        "id": "jNwrKMd2onx_"
      },
      "source": [
        "#problema 4.1\r\n",
        "MAXIMO = 7  #Constante para no cambiar punto por punto en caso de ser necesario\r\n",
        "sueldos = [0.0 for x in range(MAXIMO)]\r\n",
        "suma = 0.0\r\n",
        "promedio = 0.0\r\n",
        "for i in range(MAXIMO):\r\n",
        "  sueldos[i] = float(input(\"Dame el sueldo:\"))\r\n",
        "\r\n",
        "for i in range(MAXIMO):\r\n",
        "  print(f\"Trabajador {i+1}, gana: {sueldos [i]}\")\r\n",
        "\r\n",
        "for i in range(MAXIMO):\r\n",
        "  suma = suma + sueldos[i]\r\n",
        "promedio = suma / MAXIMO\r\n",
        "print(f\"El promedio de sueldo es ${promedio}\")\r\n",
        "\r\n",
        "for i in range(MAXIMO):\r\n",
        "  if sueldos[i] > promedio:\r\n",
        "    print(f\"El trabajador {i+1} tiene un sueldo mayor al primero\")"
      ],
      "execution_count": null,
      "outputs": []
    },
    {
      "cell_type": "code",
      "metadata": {
        "id": "tnsqGaThsrLP"
      },
      "source": [
        "#Hacer un programa que solicite 5 valores enteros positivos y \r\n",
        "#una vez que se capturen por teclado, determine:\r\n",
        "#Cual es el de mayor valor, cual es el menorcual es el promedio\r\n",
        "MAY = 0\r\n",
        "MEN = 1000000000\r\n",
        "RAN=5\r\n",
        "sum= 0\r\n",
        "valores = [ 0 for x in range(RAN)]\r\n",
        "\r\n",
        "for i in range(RAN):\r\n",
        "  valores[i] = float(input(\"Dame el valor: \"))\r\n",
        "  if (valores[i] > MAY):\r\n",
        "    MAY = valores [i]\r\n",
        "  elif (valores[i < MEN]):\r\n",
        "    MEN = valores [i]\r\n",
        "  sum += valores[i]\r\n",
        "promedio = sum/RAN \r\n",
        "\r\n",
        "print(f\"MAYOR VALOR: {MAY}\")\r\n",
        "print(f\"MENOR VALOR: {MEN}\")\r\n",
        "print(f\"PROMEDIO: {promedio}\")"
      ],
      "execution_count": null,
      "outputs": []
    },
    {
      "cell_type": "code",
      "metadata": {
        "id": "CgXR8xUIvy_O"
      },
      "source": [
        "#Problema 4.1 pag 229 (238)\r\n",
        "N = int(input(\"Ingrese el numero de elementos del arreglo: \"))\r\n",
        "VEC = []\r\n",
        "if 1 <= N and N <= 500:\r\n",
        "  VEC = [for 0 x in range(N)]\r\n",
        "  for I in range(N):\r\n",
        "    VEC[I] = int(input(\"Ingrese valor \"+ str(I+1) + \":\"))\r\n",
        "  print(\"Lista de números sin repeticiones: \")\r\n",
        "  I = 0\r\n",
        "  while I < N:\r\n",
        "    print( VEC[I])\r\n",
        "    REPET = VEC[I]\r\n",
        "    while I < N and REPET == VEC[I]:\r\n",
        "      I = I + 1\r\n",
        "    I = I + 1\r\n",
        "\r\n",
        "else:\r\n",
        "  print(\"El número de elementos juntos del arreglo es incorrecto\")\r\n"
      ],
      "execution_count": null,
      "outputs": []
    }
  ]
}