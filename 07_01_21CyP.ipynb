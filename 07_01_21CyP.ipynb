{
  "nbformat": 4,
  "nbformat_minor": 0,
  "metadata": {
    "colab": {
      "name": "07/01/21CyP.ipynb",
      "provenance": [],
      "authorship_tag": "ABX9TyPkFmPTOL+lSrM4uWkNagpL",
      "include_colab_link": true
    },
    "kernelspec": {
      "name": "python3",
      "display_name": "Python 3"
    }
  },
  "cells": [
    {
      "cell_type": "markdown",
      "metadata": {
        "id": "view-in-github",
        "colab_type": "text"
      },
      "source": [
        "<a href=\"https://colab.research.google.com/github/SagaraJC/cyp_2021/blob/main/07_01_21CyP.ipynb\" target=\"_parent\"><img src=\"https://colab.research.google.com/assets/colab-badge.svg\" alt=\"Open In Colab\"/></a>"
      ]
    },
    {
      "cell_type": "code",
      "metadata": {
        "id": "Y_WKOC93hPjc",
        "colab": {
          "base_uri": "https://localhost:8080/"
        },
        "outputId": "f010e291-85fd-47c2-c27f-4027f6dbcda0"
      },
      "source": [
        "ren = 3\r\n",
        "col = 5\r\n",
        "vec = [[0 for x in range(col)] for x in range(ren)]\r\n",
        "print(vec)\r\n",
        "vec[1] [2] = 15\r\n",
        "print(vec)\r\n",
        "\r\n",
        "print(\"Automatizar el recorrido de arreglo\")\r\n",
        "for i in range(ren):\r\n",
        "  for j in range(col):\r\n",
        "    print(f\"{i},{j} = {vec[i] [j]}\")"
      ],
      "execution_count": 2,
      "outputs": [
        {
          "output_type": "stream",
          "text": [
            "[[0, 0, 0, 0, 0], [0, 0, 0, 0, 0], [0, 0, 0, 0, 0]]\n",
            "[[0, 0, 0, 0, 0], [0, 0, 15, 0, 0], [0, 0, 0, 0, 0]]\n"
          ],
          "name": "stdout"
        }
      ]
    },
    {
      "cell_type": "code",
      "metadata": {
        "colab": {
          "base_uri": "https://localhost:8080/"
        },
        "id": "Ad4UUFDJFCeg",
        "outputId": "e3633ba2-4e09-4142-f188-108fd45ae928"
      },
      "source": [
        "estados= int (input(\"Cuantos estados son?: \"))\r\n",
        "lluvias_men_est= [ [0 for x in range(12)] for x in range(estados)]\r\n",
        "for i in range(estados):\r\n",
        "  for j in range(12):\r\n",
        "    mensaje = \"Dame el valor del estado: \"+ str(i+1) + \"del mes \"+ str(j+1),\":\"\r\n",
        "    aux = int(input(mensaje))\r\n",
        "    lluvias_men_est[i][j]= aux\r\n",
        "print(lluvias_men_est)\r\n",
        "\r\n",
        "print(\"Promedio de lluvias en los estados: \")\r\n",
        "suma = 0\r\n",
        "for i in range(estados):\r\n",
        "  suma = 0\r\n",
        "  for j in range(12):\r\n",
        "    suma = suma + lluvias_men_est[i][j]\r\n",
        "  print(f\"El promedio de lluvias en el estadp {i+1} es {suma / 12}\")\r\n"
      ],
      "execution_count": 3,
      "outputs": [
        {
          "output_type": "stream",
          "text": [
            "Cuantos estados son?: 2\n",
            "Dame el siguiente valor: 50\n",
            "Dame el siguiente valor: 7\n",
            "Dame el siguiente valor: 12\n",
            "Dame el siguiente valor: 15\n",
            "Dame el siguiente valor: 22\n",
            "Dame el siguiente valor: 50\n",
            "Dame el siguiente valor: 85\n",
            "Dame el siguiente valor: 70\n",
            "Dame el siguiente valor: 65\n",
            "Dame el siguiente valor: 28\n",
            "Dame el siguiente valor: 35\n",
            "Dame el siguiente valor: 17\n",
            "Dame el siguiente valor: 45\n",
            "Dame el siguiente valor: 3\n",
            "Dame el siguiente valor: 10\n",
            "Dame el siguiente valor: 5\n",
            "Dame el siguiente valor: 30\n",
            "Dame el siguiente valor: 90\n",
            "Dame el siguiente valor: 130\n",
            "Dame el siguiente valor: 75\n",
            "Dame el siguiente valor: 49\n",
            "Dame el siguiente valor: 37\n",
            "Dame el siguiente valor: 15\n",
            "Dame el siguiente valor: 8\n",
            "[[50, 7, 12, 15, 22, 50, 85, 70, 65, 28, 35, 17], [45, 3, 10, 5, 30, 90, 130, 75, 49, 37, 15, 8], [0, 0, 0, 0, 0, 0, 0, 0, 0, 0, 0, 0]]\n"
          ],
          "name": "stdout"
        }
      ]
    }
  ]
}