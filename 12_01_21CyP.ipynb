{
  "nbformat": 4,
  "nbformat_minor": 0,
  "metadata": {
    "colab": {
      "name": "12/01/21CyP.ipynb",
      "provenance": [],
      "authorship_tag": "ABX9TyMpvaWfebAY7cd0y+I8DVCp",
      "include_colab_link": true
    },
    "kernelspec": {
      "name": "python3",
      "display_name": "Python 3"
    }
  },
  "cells": [
    {
      "cell_type": "markdown",
      "metadata": {
        "id": "view-in-github",
        "colab_type": "text"
      },
      "source": [
        "<a href=\"https://colab.research.google.com/github/SagaraJC/cyp_2021/blob/main/12_01_21CyP.ipynb\" target=\"_parent\"><img src=\"https://colab.research.google.com/assets/colab-badge.svg\" alt=\"Open In Colab\"/></a>"
      ]
    },
    {
      "cell_type": "markdown",
      "metadata": {
        "id": "WJz5QwMrpVcY"
      },
      "source": [
        "#Introducción a Python\r\n",
        "- Creado en los 90´s por Guido Van R.\r\n",
        "- En el 2000 python mejora con nuevas características\r\n",
        "- En el 2020 deja de ser la versión oficial python 2.7 y solo se le dará soporte a python 3 en adelante\r\n",
        "#Características de python\r\n",
        "1. Lenguaje de propósito general.\r\n",
        "2. Lenguaje interpretado y no compilado\r\n",
        "3. Tipos de datos dinámicos. (numéricos, de cadena, booleanos, etc)\r\n",
        "4. Multiplataforma (funciona en varios S.O.)\r\n",
        "5. Lenguaje multi-paradigma.(Imperativa, POO y funcional.)\r\n",
        "6. Código estructurado por indentación.\r\n",
        "7. Usa principios zen (guías de que se esperaba lograr con el lenguaje)\r\n",
        "Son las características que guían el diseño de languajes de programación Python"
      ]
    },
    {
      "cell_type": "code",
      "metadata": {
        "id": "nD9fqMzIgSMB"
      },
      "source": [
        "#Primer programa en python 3\r\n",
        "\r\n",
        "nombre = \"José\"\r\n",
        "print(\"Hola\", nombre)\r\n",
        "edad = 18\r\n",
        "print(\"Hola\", nombre , edad)"
      ],
      "execution_count": null,
      "outputs": []
    },
    {
      "cell_type": "markdown",
      "metadata": {
        "id": "OqCe_DuWvnI6"
      },
      "source": [
        "# La función print{}\r\n",
        "Es una de las funciones más empleadas en programación y busca enviar datos a la salida estandar, usualmente monitor;\r\n",
        "\r\n",
        "Formas de uso: \r\n",
        "1. Coma\r\n",
        "2. con signos +\r\n",
        "3. .fotmat()\r\n",
        "4. operador f\" \"\r\n",
        "\r\n",
        "1. Con comas\r\n",
        "Concatena los argumentos enviados a print y les agrega un espacio.\r\n",
        "\r\n",
        "2. Con signo +\r\n",
        "Concatena los valores sin espacio y sin hacer conversión de tipos\r\n",
        "\r\n",
        "3. Con la función format\r\n",
        "Permite darle formato a la salida de impresión de variables, emplea la función format de el tipo de dato string.\r\n",
        "\"Cadena {} a {} forma{}tear\".format(v1,v2,vn)\r\n",
        "Emplea comodines para sustituir valores los signos de {}\r\n",
        "4. Con el operafor f\" \"\r\n",
        "Es una variante de la forma anterior pero enmascarando la función format"
      ]
    },
    {
      "cell_type": "code",
      "metadata": {
        "id": "-ABR7HLSwSgS"
      },
      "source": [
        "print(\"Hola\", nombre , edad)\r\n",
        "print(\"Hola \"+ nombre +\" \"+ str(edad)) #Debe hacerse una conversión \r\n",
        "#Nombre: José con una edad de: 18 años.\r\n",
        "print(\"Nombre:\", nombre, \"Con una edad de: \", edad , \"años\"\r\n",
        "#Con format{}\r\n",
        "print(\"{0} con una edad de: {1} años.\").format(nombre, edad)#Los argumentos se ordenan e invocan como si fueran un arreglo\r\n",
        "#Con el operador f\r\n",
        "print(f\"Nombre: {nombre} con la edad de: {edad} años.\")"
      ],
      "execution_count": null,
      "outputs": []
    },
    {
      "cell_type": "markdown",
      "metadata": {
        "id": "bhYtMr3k2KDj"
      },
      "source": [
        "# Función print() y los caracteres de escape\r\n",
        "- \\n salto de línea\r\n",
        "- \\t tabulador\r\n",
        "- \\\\imprimir la diagonal \\\r\n",
        "- \\' y \\\"\r\n",
        "- \\uxxxx\r\n",
        "- \\uxxxxxxxx\r\n",
        "## print y salto de línea en el argumento."
      ]
    },
    {
      "cell_type": "code",
      "metadata": {
        "id": "soznAI2K2bJA"
      },
      "source": [
        "print('\"')\r\n",
        "print(\"\\\"\") \r\n",
        "print(\"Nombre: José\\n\\tcon una edad de: 18 años.\")\r\n",
        "#Caracteres unicode 32 y 64 bits\r\n",
        "print(\"Hola \\u2661\")\r\n",
        "print(\"Hola \" ,end=\"\")\r\n",
        "print(\"mundo\" ,end=\"\")\r\n",
        "print(\"Fin\" ,end=\"\\n\")"
      ],
      "execution_count": null,
      "outputs": []
    },
    {
      "cell_type": "markdown",
      "metadata": {
        "id": "BUzDuZmx9egm"
      },
      "source": [
        "#Comentarios en python.\r\n",
        "Un comentarioen programación es un texto especial que es ignorado por el intérprete o compilador (Seún sea el caso) y es empleado para que el programador documente sus algoritmos.\r\n",
        "\r\n",
        "Hay 2 tipos:\r\n",
        "Línea simple\r\n",
        "- Emplea #\r\n",
        "Múltiple línea\r\n",
        "-Emplea:\r\n",
        "```\r\n",
        "\"\"\"\r\n",
        "Esto es un comentario\r\n",
        "de línea múltiple\r\n",
        "\"\"\"\r\n",
        "```\r\n"
      ]
    }
  ]
}