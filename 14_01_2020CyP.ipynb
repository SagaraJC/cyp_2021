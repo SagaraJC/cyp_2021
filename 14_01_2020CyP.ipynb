{
  "nbformat": 4,
  "nbformat_minor": 0,
  "metadata": {
    "colab": {
      "name": "14/01/2020CyP.ipynb",
      "provenance": [],
      "authorship_tag": "ABX9TyMdyS7srRP1t3fBRUbzq3Hx",
      "include_colab_link": true
    },
    "kernelspec": {
      "name": "python3",
      "display_name": "Python 3"
    }
  },
  "cells": [
    {
      "cell_type": "markdown",
      "metadata": {
        "id": "view-in-github",
        "colab_type": "text"
      },
      "source": [
        "<a href=\"https://colab.research.google.com/github/SagaraJC/cyp_2021/blob/main/14_01_2020CyP.ipynb\" target=\"_parent\"><img src=\"https://colab.research.google.com/assets/colab-badge.svg\" alt=\"Open In Colab\"/></a>"
      ]
    },
    {
      "cell_type": "markdown",
      "metadata": {
        "id": "Qm57B2pq5Bpp"
      },
      "source": [
        "# Palabra reservadas de Python 3\r\n",
        "1. False\r\n",
        "1. None\r\n",
        "1. True\r\n",
        "1. and\r\n",
        "1. as\r\n",
        "1. assert\r\n",
        "1. break\r\n",
        "1. class\r\n",
        "1. continue\r\n",
        "1. def\r\n",
        "1. del\r\n",
        "1. elif\r\n",
        "1. else\r\n",
        "1. except\r\n",
        "1. finally\r\n",
        "1. for\r\n",
        "1. from\r\n",
        "1. global\r\n",
        "1. if\r\n",
        "1. import\r\n",
        "1. in\r\n",
        "1. is\r\n",
        "1. lambda\r\n",
        "1. nonlocal\r\n",
        "1. not\r\n",
        "1. or\r\n",
        "1. pass\r\n",
        "1. raise\r\n",
        "1. return\r\n",
        "1. try\r\n",
        "1. while\r\n",
        "1. with\r\n",
        "1. yield"
      ]
    },
    {
      "cell_type": "code",
      "metadata": {
        "id": "JwVEMBYUzM6K"
      },
      "source": [
        "import keyword\r\n",
        "pr = keyword.kwlist\r\n",
        "print( len(pr))#Total de variables(número)\r\n",
        "for palabra in pr:\r\n",
        "  print(\"1.\",palabra )"
      ],
      "execution_count": null,
      "outputs": []
    },
    {
      "cell_type": "markdown",
      "metadata": {
        "id": "G0oTkJgY6499"
      },
      "source": [
        "##Variable\r\n",
        "Es un espacio de la memoria de la computadora para almacenar valores que cambian a lo largo de la ejecución del programa, Este espacio de memoria está referenciado por un identificador, el cual tienen ciertas reglas de nombrado.\r\n",
        "- No puede iniciar con números\r\n",
        "- No debe ser igual a alguna de las palabras reservadas.\r\n",
        "- Puede iniciar con guión bajo\r\n",
        "- Evitar nombres de variables largos(Evita cansancio)\r\n",
        "- Evitar muy cortos (x,y,i)\r\n",
        "- Usar notación snake_case\r\n"
      ]
    },
    {
      "cell_type": "code",
      "metadata": {
        "colab": {
          "base_uri": "https://localhost:8080/"
        },
        "id": "7LQhYmcd7rYu",
        "outputId": "2fec2a36-f9fa-455e-980a-df4bd4fd4e0d"
      },
      "source": [
        "_2edad = 12\r\n",
        "print(_2edad)\r\n",
        "\"\"\"\r\n",
        "No se puede usar una palabra reservada como identificador de variable:\r\n",
        "for = 12\r\n",
        "print(for)\r\n",
        "\r\n",
        "\"\"\""
      ],
      "execution_count": 6,
      "outputs": [
        {
          "output_type": "stream",
          "text": [
            "12\n"
          ],
          "name": "stdout"
        }
      ]
    },
    {
      "cell_type": "code",
      "metadata": {
        "id": "uLGokFdv8o2E"
      },
      "source": [
        "\"\"\"\r\n",
        "La notación snake case consta de formar el identificador del variable separando\r\n",
        "Las palabras del mismo con un guión bajo.\r\n",
        "Las notaciones más usadas son Snake, Cammel y Capital case.\r\n",
        "Cammelcase: Con mayúsculas y mayúsculas\r\n",
        "lower: diasDeLaSemana = 1 minúscula al inicio\r\n",
        "upper: DiasDeLaSemana = 1 mayúscula la inicio\r\n",
        "Se recomienda que los identificadores se escriban en minúsculas para\r\n",
        "las variables y mayústulas para las constantes\r\n",
        "\r\n",
        "Es decir; si tenemos una variable para los días de la semana, se escribiría:\r\n",
        "\r\n",
        "dias_de_la_semana = 7\r\n",
        "dias_mes = 31\r\n",
        "limite_max = 100\r\n",
        "\"\"\""
      ],
      "execution_count": null,
      "outputs": []
    },
    {
      "cell_type": "markdown",
      "metadata": {
        "id": "K4Toz12495O9"
      },
      "source": [
        "#Tipos de datos\r\n",
        "- Numéricos\r\n",
        "  - int 4bytes (1,2,2354, etc.)\r\n",
        "  - float 4bytes (1.2,0.3,152.99, etc.)\r\n",
        "  - long 8bytes (1,2,23454 etc)\r\n",
        "  - complex 3 + 2i (Raíces negativas)\r\n",
        "- Booleanos True False\r\n",
        "- Strign Cadenas de caracteres\r\n",
        "  (\"\" o '' o \"\"\")\r\n",
        "- listas ([1,2,3,4], [a,b,1,2.3])\r\n",
        "- tuplas ((edad,23), (3,4))\r\n",
        "- conjuntos\r\n",
        "- diccionarios ({\"Nombre: Juan\"})\r\n"
      ]
    },
    {
      "cell_type": "markdown",
      "metadata": {
        "id": "2nAVvl_VEBdQ"
      },
      "source": [
        "#Tipo de dato String\r\n",
        "Este tipo de dato permite almacenar cadenas de caracteres como:\r\n",
        "nombre: 'Jesús'  (Se usa comilla simple cuando es solo una palabra)\r\n",
        "lugar_nacimiento = \"México DF, Tacuba\"\r\n",
        "frase_favorita = \"\"\"\r\n",
        "El conocimiento \r\n",
        "me persigue,\r\n",
        "pero...\r\n",
        "yo soy más rápido!!!\r\n",
        ":3\r\n",
        "\"\"\"\r\n"
      ]
    },
    {
      "cell_type": "code",
      "metadata": {
        "id": "41Upqks_FG3h"
      },
      "source": [
        "nombre = 'Jesús'\r\n",
        "lugar_nacimiento = \"Mexico D.F., Tacuba\"\r\n",
        "frase_favorita =\"\"\" \r\n",
        "El conocimiento\r\n",
        "me persigue,\r\n",
        "pero...\r\n",
        "yo soy más rápido!!!\r\n",
        ":)\r\n",
        "\"\"\"\r\n",
        "\r\n",
        "print(nombre)\r\n",
        "print(lugar_nacimiento)\r\n",
        "print(frase_favorita)"
      ],
      "execution_count": null,
      "outputs": []
    },
    {
      "cell_type": "markdown",
      "metadata": {
        "id": "R5Z7dgqSFqbW"
      },
      "source": [
        "#Strings como arreglo\r\n",
        "Un string en python es almacenado como el tipo de dato (estructura de datos) arreglo.\r\n",
        "\r\n",
        "Por ejemplo la declaración:\r\n",
        "```\r\n",
        "nombre = 'Jesus'\r\n",
        "```\r\n",
        "El elemento 'J' es almacenado en un arreglo en la posición 0. La en en la 1 y así sucesivamente\r\n",
        "###Selector\r\n",
        "La notación para seleccionar un elemento del arreglo es: \r\n",
        "```\r\n",
        "[1]\r\n",
        "```\r\n",
        "Donde el valor interno debe ser un valor numérico entero.\r\n",
        "\r\n"
      ]
    },
    {
      "cell_type": "code",
      "metadata": {
        "colab": {
          "base_uri": "https://localhost:8080/"
        },
        "id": "347RYrqYGPue",
        "outputId": "5e1c3f4f-3e6a-4481-a415-b56a666e7d49"
      },
      "source": [
        "nombre = 'Jesús'\r\n",
        "print(len(nombre))\r\n",
        "print(nombre)\r\n",
        "print(nombre[0])\r\n",
        "print(nombre[3])"
      ],
      "execution_count": 8,
      "outputs": [
        {
          "output_type": "stream",
          "text": [
            "Jesús\n",
            "J\n",
            "ú\n"
          ],
          "name": "stdout"
        }
      ]
    },
    {
      "cell_type": "markdown",
      "metadata": {
        "id": "O_JJ6CozHmed"
      },
      "source": [
        "#Iterar sobre un STRING\r\n",
        "Se puede iterar sobre un string con un for de la forma:\r\n",
        "```\r\n",
        "for letra in range(len()nombre):\r\n",
        "  print(letra)\r\n",
        "```\r\n"
      ]
    },
    {
      "cell_type": "code",
      "metadata": {
        "colab": {
          "base_uri": "https://localhost:8080/"
        },
        "id": "PkO9__LbIW_3",
        "outputId": "00dd340e-1cc2-4b10-a488-23e4d4b12b63"
      },
      "source": [
        "for indice in range(len(nombre)): #0,1,2,3,4\r\n",
        "  print(indice,end = \" \")\r\n",
        "  print(nombre[indice])"
      ],
      "execution_count": 10,
      "outputs": [
        {
          "output_type": "stream",
          "text": [
            "0 J\n",
            "1 e\n",
            "2 s\n",
            "3 ú\n",
            "4 s\n"
          ],
          "name": "stdout"
        }
      ]
    },
    {
      "cell_type": "markdown",
      "metadata": {
        "id": "b_qYLXFVJ93G"
      },
      "source": [
        "#Función range(inicio, stop, stop, incremento)\r\n",
        "\r\n",
        "El inicio es opcional y por defecto tiene el valor 0\r\n",
        "El incremento también es opcional y por defecto es 1"
      ]
    },
    {
      "cell_type": "code",
      "metadata": {
        "id": "e1L_mQ_rJvvI"
      },
      "source": [
        "for indice in range(0, len(nombre),1):\r\n",
        "  print(nombre[indice])"
      ],
      "execution_count": null,
      "outputs": []
    },
    {
      "cell_type": "code",
      "metadata": {
        "colab": {
          "base_uri": "https://localhost:8080/"
        },
        "id": "nusquDItK3VA",
        "outputId": "1b42989a-de7c-4857-9f7e-9c43ef19e7bb"
      },
      "source": [
        "for indice in range(4, -1,-1):  #Invertir el orden\r\n",
        "  print(nombre[indice])"
      ],
      "execution_count": 11,
      "outputs": [
        {
          "output_type": "stream",
          "text": [
            "s\n",
            "ú\n",
            "s\n",
            "e\n",
            "J\n"
          ],
          "name": "stdout"
        }
      ]
    },
    {
      "cell_type": "markdown",
      "metadata": {
        "id": "RWrzKhZgMJiT"
      },
      "source": [
        "#Strings o indexado negativo\r\n",
        "En python 3 se agrega una nueva caratcerística a los arreglos de las cadenas de caracteres, esta consta de la capacidad de anexar de forma negativa.\r\n",
        "La lógica es la siguiente:\r\n",
        "\r\n",
        "El último elemento se considera como índice (ALTERNATIVO) -1, con lo cual se podría referenciar el final de la cadena sin la necesidad de saber el tamaño de la misma\r\n",
        "\r\n",
        "```\r\n",
        "nombre = 'Jesús'\r\n",
        "\r\n",
        "índice normal       0  1  2  3  4\r\n",
        "                    J  e  s  u  s\r\n",
        "índice alternativo -5 -4 -3 -2 -1\r\n",
        "```"
      ]
    },
    {
      "cell_type": "code",
      "metadata": {
        "colab": {
          "base_uri": "https://localhost:8080/"
        },
        "id": "VsXn0OvcMkSX",
        "outputId": "d062a9bc-1b8c-4367-a116-1de475ccfb5e"
      },
      "source": [
        "nombre= \"Jesús\"\r\n",
        "print(nombre[4])\r\n",
        "print(nombre[-1])\r\n",
        "print(\"\")\r\n",
        "for indice_alter in range(-1,-6,-1):\r\n",
        "  print(nombre[indice_alter])"
      ],
      "execution_count": 14,
      "outputs": [
        {
          "output_type": "stream",
          "text": [
            "s\n",
            "s\n",
            "\n",
            "s\n",
            "ú\n",
            "s\n",
            "e\n",
            "J\n"
          ],
          "name": "stdout"
        }
      ]
    },
    {
      "cell_type": "markdown",
      "metadata": {
        "id": "Bjj4qYsDQAk8"
      },
      "source": [
        "#Slicing de cadenas de caracteres\r\n",
        "Esta característica permite sacar secciones de una cadena con la siguiente sintaxis:\r\n",
        "```\r\n",
        "[inicio:stop:incremento]\r\n",
        "```\r\n",
        "donde inicio e incremento son opcionales y también soporta indexado alternativo(negativos)"
      ]
    },
    {
      "cell_type": "code",
      "metadata": {
        "colab": {
          "base_uri": "https://localhost:8080/"
        },
        "id": "snEnaMy2QdSp",
        "outputId": "994488d8-2b1e-4414-fbc4-c6198778ba49"
      },
      "source": [
        "facultad = \"Facultad de Estudios Superiores Aragón (La mejor)\"\r\n",
        "print(facultad)\r\n",
        "for indice in range(12,20,1):\r\n",
        "  print(facultad[indice], end=\"\")\r\n",
        "\r\n",
        "#Hacer esto mismo con la característica Slicing se logra así:\r\n",
        "print(\"\\nCon slicing\")\r\n",
        "print(facultad[12:20:1])\r\n",
        "# La palabra 'de' con slicing\r\n",
        "print(facultad[9:11:1])\r\n"
      ],
      "execution_count": 16,
      "outputs": [
        {
          "output_type": "stream",
          "text": [
            "Facultad de Estudios Superiores Aragón (La mejor)\n",
            "Estudios\n",
            "Con slicing\n",
            "Estudios\n",
            "de\n",
            "\n"
          ],
          "name": "stdout"
        }
      ]
    }
  ]
}