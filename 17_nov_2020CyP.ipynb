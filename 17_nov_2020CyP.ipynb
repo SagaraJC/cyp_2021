{
  "nbformat": 4,
  "nbformat_minor": 0,
  "metadata": {
    "colab": {
      "name": "17_nov_2020CyP.ipynb",
      "provenance": [],
      "authorship_tag": "ABX9TyPfHXp8NV42NrzNSOC+TNW1",
      "include_colab_link": true
    },
    "kernelspec": {
      "name": "python3",
      "display_name": "Python 3"
    }
  },
  "cells": [
    {
      "cell_type": "markdown",
      "metadata": {
        "id": "view-in-github",
        "colab_type": "text"
      },
      "source": [
        "<a href=\"https://colab.research.google.com/github/SagaraJC/cyp_2021/blob/main/17_nov_2020CyP.ipynb\" target=\"_parent\"><img src=\"https://colab.research.google.com/assets/colab-badge.svg\" alt=\"Open In Colab\"/></a>"
      ]
    },
    {
      "cell_type": "code",
      "metadata": {
        "colab": {
          "base_uri": "https://localhost:8080/"
        },
        "id": "iGzzETNDR89h",
        "outputId": "e5423e8a-e137-40c9-fb27-148d9beb5276"
      },
      "source": [
        "edad = 15\n",
        "estatura = 1.67\n",
        "a = 10\n",
        "b = 3\n",
        "\n",
        "c = 2 ** b + 2 + 3 + 4\n",
        "e = estatura * 2.0 \n",
        "f = a / b   # En python se hace el cálculo exacto\n",
        "g = a // b\n",
        "h = a % b\n",
        "num = 10\n",
        "\n",
        "\n",
        "print( c )\n",
        "print( e )\n",
        "print( f )  #3.3333333\n",
        "print( \"g=\" , g )\n",
        "print(\"h=\" , h)\n",
        "print(\"Es par num?\" , (num % 2) == 0 )\n",
        "#tambien podemos forzar al cálculo de enteros"
      ],
      "execution_count": 9,
      "outputs": [
        {
          "output_type": "stream",
          "text": [
            "17\n",
            "3.34\n",
            "3.3333333333333335\n",
            "g= 3\n",
            "h= 1\n",
            "Es par num? True\n"
          ],
          "name": "stdout"
        }
      ]
    },
    {
      "cell_type": "code",
      "metadata": {
        "colab": {
          "base_uri": "https://localhost:8080/"
        },
        "id": "DghIEQMTW2qD",
        "outputId": "efcc278c-d230-4c7c-995a-f95558435e4c"
      },
      "source": [
        "  ecuacion= 9 + 7 * 8 - 36 / 5\n",
        "  print(ecuacion)"
      ],
      "execution_count": 10,
      "outputs": [
        {
          "output_type": "stream",
          "text": [
            "57.8\n"
          ],
          "name": "stdout"
        }
      ]
    },
    {
      "cell_type": "code",
      "metadata": {
        "colab": {
          "base_uri": "https://localhost:8080/"
        },
        "id": "j1FSEzb9ZvTw",
        "outputId": "e1781b54-16cd-4898-9fd3-ad355aab9fa5"
      },
      "source": [
        "ecuacion = 9 + 7 * 8 - 36 / 5\n",
        "print(ecuacion)\n",
        "\n",
        "ecuacion = (9+7) * 8 - 36 / 5\n",
        "print(ecuacion)\n",
        "\n",
        "\n",
        "ecuacion = 9 + 7 * (8 - 36) / 5\n",
        "print(ecuacion)\n"
      ],
      "execution_count": 13,
      "outputs": [
        {
          "output_type": "stream",
          "text": [
            "57.8\n",
            "120.8\n",
            "-30.200000000000003\n"
          ],
          "name": "stdout"
        }
      ]
    },
    {
      "cell_type": "code",
      "metadata": {
        "colab": {
          "base_uri": "https://localhost:8080/"
        },
        "id": "qEYBEvmIb-_a",
        "outputId": "a3b12aa9-a4c7-4bcc-ad16-893e172eca08"
      },
      "source": [
        "# operadores lógicos --> true y flase\n",
        "\n",
        "x = 5\n",
        "y = 4\n",
        "\n",
        "valor = (x == y) #Son iguales? False\n",
        "print(valor)\n",
        "\n",
        "valor = (x != y) #Son diferentes?True\n",
        "print(valor)\n",
        "\n",
        "valor = ( x < y ) #x es menor que y? False\n",
        "print(valor)\n",
        "\n",
        "valor = ( x > y ) #x es mayor que y? True\n",
        "print(valor)\n",
        "\n",
        "y=5\n",
        "valor = ( x <= y ) #x es menor o igual que y? True\n",
        "print(valor)\n",
        "\n",
        "y=5\n",
        "valor = ( x >= y ) #x es mayor o igual que y? True\n",
        "print(valor)"
      ],
      "execution_count": 20,
      "outputs": [
        {
          "output_type": "stream",
          "text": [
            "False\n",
            "True\n",
            "False\n",
            "True\n",
            "True\n",
            "True\n"
          ],
          "name": "stdout"
        }
      ]
    },
    {
      "cell_type": "code",
      "metadata": {
        "colab": {
          "base_uri": "https://localhost:8080/"
        },
        "id": "EHbKQJ3ufZrX",
        "outputId": "2a0156a0-66b8-4bfa-9902-71e9073a63c2"
      },
      "source": [
        "costo_chetos = 7.0\n",
        "tienda_abierta = True\n",
        "capital_en_bolsa = 10.0\n",
        "\n",
        "se_compra = (costo_chetos < capital_en_bolsa) and (tienda_abierta == True)\n",
        "print(se_compra)"
      ],
      "execution_count": 21,
      "outputs": [
        {
          "output_type": "stream",
          "text": [
            "True\n"
          ],
          "name": "stdout"
        }
      ]
    }
  ]
}