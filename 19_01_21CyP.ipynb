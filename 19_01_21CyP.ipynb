{
  "nbformat": 4,
  "nbformat_minor": 0,
  "metadata": {
    "colab": {
      "name": "19/01/21CyP.ipynb",
      "provenance": [],
      "authorship_tag": "ABX9TyNRw58tFYF2VfOlnkRigjpy",
      "include_colab_link": true
    },
    "kernelspec": {
      "name": "python3",
      "display_name": "Python 3"
    }
  },
  "cells": [
    {
      "cell_type": "markdown",
      "metadata": {
        "id": "view-in-github",
        "colab_type": "text"
      },
      "source": [
        "<a href=\"https://colab.research.google.com/github/SagaraJC/cyp_2021/blob/main/19_01_21CyP.ipynb\" target=\"_parent\"><img src=\"https://colab.research.google.com/assets/colab-badge.svg\" alt=\"Open In Colab\"/></a>"
      ]
    },
    {
      "cell_type": "markdown",
      "metadata": {
        "id": "fpWN0zgtq05X"
      },
      "source": [
        "## Slicing (continuación)\r\n",
        "\r\n",
        "[inicio : stop : incremento]\r\n",
        "Notas:\r\n",
        "1. El stop no es incluido.\r\n",
        "1. El incremento se puede modificar\r\n",
        "1. Soporta indexado alternativo (negatiuvos)\r\n"
      ]
    },
    {
      "cell_type": "code",
      "metadata": {
        "id": "vZow8PA_nCul"
      },
      "source": [
        "frase = \"como hacer a la gente mas positiva?, muy facil, has que pierdan un electron!\"\r\n",
        "print(frase)\r\n",
        "#iprimir \"ace\" de la palabra hacer\r\n",
        "print(frase[ 6: 9 : 1 ])\r\n",
        "#Valores por defecto\r\n",
        "print(frase[ : 5 : 2 ])\r\n",
        "print(len(frase))\r\n",
        "#Incremento \r\n",
        "print(frase[  :  : 2]) #Toda la frase\r\n",
        "print(frase[ -1 :  : -1]) #Invertida\r\n",
        "nombre = \"Juan José\"\r\n",
        "print(nombre[1::-1])\r\n",
        "\r\n",
        "primer = nombre[:4:]\r\n",
        "print(primer)\r\n"
      ],
      "execution_count": null,
      "outputs": []
    },
    {
      "cell_type": "markdown",
      "metadata": {
        "id": "kHHBlVicx4t4"
      },
      "source": [
        "#Métodos de la clase String(str)\r\n",
        "En python todo es un objeto (P.O.O), eso significa que cada tipo de dato trae consigo métodos (funciones) incluidas\r\n",
        "Para identificar los métodos disponibles se puede usar una de dos funciones:\r\n",
        "1. dir(str) #Resumen de los métodos de esa clase\r\n",
        "1. help (str) #Informacion completa de los métodos de esa clase"
      ]
    },
    {
      "cell_type": "code",
      "metadata": {
        "id": "rsPLuDGYyT2t"
      },
      "source": [
        "nombre= \"Juan José\"\r\n",
        "print(nombre0)\r\n",
        "print(dir(str))"
      ],
      "execution_count": null,
      "outputs": []
    },
    {
      "cell_type": "markdown",
      "metadata": {
        "id": "l-zyqXqIy3a_"
      },
      "source": [
        "Los nómbres de métodos que inician con doble guión bajo, significa que son métodos privados(POO) y no tendrías por qué usarlos como programador consumidor.\r\n",
        "\r\n",
        "Los demás métodos son públicos y son de libre uso.\r\n"
      ]
    },
    {
      "cell_type": "code",
      "metadata": {
        "colab": {
          "base_uri": "https://localhost:8080/"
        },
        "id": "3sP34zSlzftI",
        "outputId": "3135b69b-97e4-4052-f29d-23ccb9acf75a"
      },
      "source": [
        "nombre= \"Juan José\"\r\n",
        "print(nombre)\r\n",
        "print(nombre.islower())\r\n",
        "nombre = \"PEDRO FERNANDEZ\"\r\n",
        "print(nombre.capitalize())\r\n",
        "print(nombre.endswith(\"DEZ\"))\r\n",
        "print(nombre.replace(\"E\", \"*******\"))\r\n",
        "ind_e = nombre.find(\"E\")\r\n",
        "print(ind_e)\r\n",
        "nombre = nombre[:ind_e:]+\"@\"+ nombre[ind_e+1::]\r\n",
        "print(nombre)\r\n",
        "print(nombre.replace(\"E\",\"@\",0))\r\n",
        "\r\n",
        "print(nombre.lower())\r\n",
        "nombre=\"jose\"\r\n",
        "print(nombre.upper())\r\n",
        "nombre = \"josé josé, el príncipe de la canción\"\r\n",
        "print(nombre.count(\"josé\"))"
      ],
      "execution_count": null,
      "outputs": [
        {
          "output_type": "stream",
          "text": [
            "Juan José\n",
            "False\n",
            "Pedro fernandez\n",
            "True\n",
            "P*******DRO F*******RNAND*******Z\n",
            "1\n"
          ],
          "name": "stdout"
        }
      ]
    },
    {
      "cell_type": "code",
      "metadata": {
        "id": "RfkdYExd48ZU"
      },
      "source": [
        "#métodos para procesar strings\r\n",
        "números = \" 2,   1, 3, 4,    5   , 45  ,          7  \"\r\n",
        "print(numeros)\r\n",
        "#como extraigo los números de la cadena\r\n",
        "#1.- Eliminar los espacios al principio y al final con strip()\r\n",
        "numeros = numeros.strip()\r\n",
        "print(numeros)\r\n",
        "print(help(str.split))\r\n",
        "#2.- separo por comas\r\n",
        "numeros = numeros.split(\",\")\r\n",
        "print(numeros)\r\n",
        "#3.- con un for e índices limpiar cadenas de la lista\r\n",
        "for indice in range(len(numeros)):\r\n",
        "  numeros[indice]=numeros[indice].strip()\r\n",
        "print(numeros)\r\n",
        "#4.- Convertirlos a tipo entero\r\n",
        "for indice in range(len(numeros)):\r\n",
        "  numeros[indice]=int(numeros[indice])\r\n",
        "print(numeros)\r\n",
        "#5.- usar los números"
      ],
      "execution_count": null,
      "outputs": []
    },
    {
      "cell_type": "code",
      "metadata": {
        "id": "zpt8MNl4z59v"
      },
      "source": [
        "print(help(str))"
      ],
      "execution_count": null,
      "outputs": []
    }
  ]
}