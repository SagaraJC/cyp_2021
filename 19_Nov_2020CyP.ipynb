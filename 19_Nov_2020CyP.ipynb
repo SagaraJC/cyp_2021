{
  "nbformat": 4,
  "nbformat_minor": 0,
  "metadata": {
    "colab": {
      "name": "19_Nov_2020CyP.ipynb",
      "provenance": [],
      "authorship_tag": "ABX9TyPHZdSHhDGwDvuUUIIKa4Cy",
      "include_colab_link": true
    },
    "kernelspec": {
      "name": "python3",
      "display_name": "Python 3"
    }
  },
  "cells": [
    {
      "cell_type": "markdown",
      "metadata": {
        "id": "view-in-github",
        "colab_type": "text"
      },
      "source": [
        "<a href=\"https://colab.research.google.com/github/SagaraJC/cyp_2021/blob/main/19_Nov_2020CyP.ipynb\" target=\"_parent\"><img src=\"https://colab.research.google.com/assets/colab-badge.svg\" alt=\"Open In Colab\"/></a>"
      ]
    },
    {
      "cell_type": "code",
      "metadata": {
        "colab": {
          "base_uri": "https://localhost:8080/"
        },
        "id": "v4XvB61cg7bX",
        "outputId": "fa23161b-d8e2-42e9-b10f-2fc3c59d3789"
      },
      "source": [
        "#Concepto de asignación, derecha a izquierda\n",
        "I=0\n",
        "I=I+1\n",
        "I=I+1\n",
        "print(f\"I={I}\")\n",
        "J=5**2/3\n",
        "print(f\"J={J}\")"
      ],
      "execution_count": 3,
      "outputs": [
        {
          "output_type": "stream",
          "text": [
            "I=2\n",
            "J=8.333333333333334\n"
          ],
          "name": "stdout"
        }
      ]
    },
    {
      "cell_type": "code",
      "metadata": {
        "colab": {
          "base_uri": "https://localhost:8080/"
        },
        "id": "QtVF8Vj4mxkt",
        "outputId": "ea3e16ac-e068-4acc-fa1e-2c972aae677d"
      },
      "source": [
        "#Declaración de variables (reservamos memoria)\n",
        "A=0\n",
        "B=0\n",
        "C=0\n",
        "D=0\n",
        "A=int (input(\"Dame un valor entero:\"))\n",
        "B=int (input(\"Dame un valor entero:\"))\n",
        "C=int (input(\"Dame un valor entero:\"))\n",
        "D=int (input(\"Dame un valor entero:\"))\n",
        "print(D)\n",
        "print(C)\n",
        "print(B)\n",
        "print(A)"
      ],
      "execution_count": 7,
      "outputs": [
        {
          "output_type": "stream",
          "text": [
            "Dame un valor entero:10\n",
            "Dame un valor entero:2\n",
            "Dame un valor entero:30\n",
            "Dame un valor entero:40\n",
            "40\n",
            "30\n",
            "2\n",
            "10\n"
          ],
          "name": "stdout"
        }
      ]
    },
    {
      "cell_type": "code",
      "metadata": {
        "colab": {
          "base_uri": "https://localhost:8080/"
        },
        "id": "3f6fNqSJo65u",
        "outputId": "a82340a8-75c9-4f1b-e8ff-4ae9485bfa34"
      },
      "source": [
        "#Ejemplo 1.7\n",
        "A=0\n",
        "B=0\n",
        "Resultado=0\n",
        "A=int (input(\"Dame un valor entero\"))\n",
        "B=int (input(\"Dame otro valor entero\"))\n",
        "Resultado=(A+B)**2/3\n",
        "print(Resultado)"
      ],
      "execution_count": 8,
      "outputs": [
        {
          "output_type": "stream",
          "text": [
            "Dame un valor entero5\n",
            "Dame otro valor entero6\n",
            "40.333333333333336\n"
          ],
          "name": "stdout"
        }
      ]
    },
    {
      "cell_type": "code",
      "metadata": {
        "colab": {
          "base_uri": "https://localhost:8080/"
        },
        "id": "p3NMPK92uIZw",
        "outputId": "a70ebe03-1534-4467-c4bf-d17be7b69769"
      },
      "source": [
        "#Ejercicio con tiempo lim (1.8)\n",
        "Mat=0\n",
        "Cal1=0\n",
        "Cal2=0\n",
        "Cal3=0\n",
        "Cal4=0\n",
        "Cal5=0\n",
        "Pro=0\n",
        "Mat=input(\"Dame tu Nombre\")\n",
        "Cal1=float (input(\"Dame tu calificación 1\"))\n",
        "Cal2=float (input(\"Dame tu calificación 2\"))\n",
        "Cal3=float (input(\"Dame tu calificación 3\"))\n",
        "Cal4=float (input(\"Dame tu calificación 4\"))\n",
        "Cal5=float (input(\"Dame tu calificación 5\"))\n",
        "Pro=(Cal1 + Cal2 + Cal3 + Cal4 + Cal5)/5\n",
        "print(Pro)"
      ],
      "execution_count": 11,
      "outputs": [
        {
          "output_type": "stream",
          "text": [
            "Dame tu NombreJosh\n",
            "Dame tu calificación 15\n",
            "Dame tu calificación 29\n",
            "Dame tu calificación 39\n",
            "Dame tu calificación 410\n",
            "Dame tu calificación 59.5\n",
            "8.5\n"
          ],
          "name": "stdout"
        }
      ]
    },
    {
      "cell_type": "code",
      "metadata": {
        "colab": {
          "base_uri": "https://localhost:8080/"
        },
        "id": "auy27bhTyBXf",
        "outputId": "97afd6ea-f711-4d4b-d8e3-8f788a4aec46"
      },
      "source": [
        "#Ejercicio1.9\n",
        "num = int(input(\"Number: \"))\n",
        "print(num ** 2)\n",
        "print(num ** 3)"
      ],
      "execution_count": 26,
      "outputs": [
        {
          "output_type": "stream",
          "text": [
            "Dame un número:5\n",
            "25\n",
            "125\n"
          ],
          "name": "stdout"
        }
      ]
    },
    {
      "cell_type": "code",
      "metadata": {
        "colab": {
          "base_uri": "https://localhost:8080/"
        },
        "id": "rZSam6uP0ay2",
        "outputId": "f018da95-69ad-49fa-dff7-501462a700b3"
      },
      "source": [
        "#Ejercicio 1.10\n",
        "base=0\n",
        "altura=0\n",
        "area=0\n",
        "per=0\n",
        "\n",
        "base= float(input(\"Dame una base:\"))\n",
        "altura= float(input(\"Dame una altura\"))\n",
        "area=(base*altura)\n",
        "per=(2*base)+(2*altura)\n",
        "\n",
        "print(f\"el área es {area}\")\n",
        "print(f\"el perímetro es {per}\")"
      ],
      "execution_count": 33,
      "outputs": [
        {
          "output_type": "stream",
          "text": [
            "Dame una base:5\n",
            "Dame una altura2\n",
            "el área es 10.0\n",
            "el perímetro es 14.0\n"
          ],
          "name": "stdout"
        }
      ]
    }
  ]
}