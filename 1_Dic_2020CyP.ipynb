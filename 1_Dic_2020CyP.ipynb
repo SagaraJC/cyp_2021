{
  "nbformat": 4,
  "nbformat_minor": 0,
  "metadata": {
    "colab": {
      "name": "1/Dic/2020CyP.ipynb",
      "provenance": [],
      "authorship_tag": "ABX9TyMcmer51OcywdBTg6bxQ+2U",
      "include_colab_link": true
    },
    "kernelspec": {
      "name": "python3",
      "display_name": "Python 3"
    }
  },
  "cells": [
    {
      "cell_type": "markdown",
      "metadata": {
        "id": "view-in-github",
        "colab_type": "text"
      },
      "source": [
        "<a href=\"https://colab.research.google.com/github/SagaraJC/cyp_2021/blob/main/1_Dic_2020CyP.ipynb\" target=\"_parent\"><img src=\"https://colab.research.google.com/assets/colab-badge.svg\" alt=\"Open In Colab\"/></a>"
      ]
    },
    {
      "cell_type": "code",
      "metadata": {
        "colab": {
          "base_uri": "https://localhost:8080/"
        },
        "id": "qsOLXq4fRPyg",
        "outputId": "ff1832f0-7149-48e6-9cb6-b3fcb3e08337"
      },
      "source": [
        "#Ejemplo 1\n",
        "numero1= int(input(\"Introduce el primer número \"))\n",
        "numero2= int(input(\"Introduce el segundo número \"))\n",
        "numero3= int(input(\"Introduce el tercer número \"))\n",
        "\n",
        "if numero1 >= numero2 and numero1>= numero3:\n",
        "  print(numero1, \"Es el mayor\")\n",
        "\n",
        "elif numero2 >= numero1 and numero2 >= numero3:\n",
        "  print(numero2 ,\"Es el mayor\")"
      ],
      "execution_count": 4,
      "outputs": [
        {
          "output_type": "stream",
          "text": [
            "Introduce el primer número 2\n",
            "Introduce el segundo número 5\n",
            "Introduce el tercer número 9\n"
          ],
          "name": "stdout"
        }
      ]
    },
    {
      "cell_type": "code",
      "metadata": {
        "colab": {
          "base_uri": "https://localhost:8080/"
        },
        "id": "TiPRVDZiVZTj",
        "outputId": "d541e6b4-07c3-44ff-9ea5-042479100a5f"
      },
      "source": [
        "#Ejemplo 2\n",
        "print(\"Ingrese el nombre del trabajador\")\n",
        "nombre=str (input())\n",
        "print(\"¿Cuantas horas trabajo esta semana?\",nombre,\":\" )\n",
        "horas=int (input())\n",
        "print(\"¿Cuanto se le paga por hora?:\")\n",
        "sueldoH= float (input())\n",
        "\n",
        "#Evaluar su sueldo\n",
        "\n",
        "if (horas<=40):\n",
        "  pago = horas*sueldoH\n",
        "  print(nombre,\"Su pago total es de $\",pago)\n",
        "\n",
        "else:\n",
        "  extras = horas - 40\n",
        "  pago = 40*sueldoH\n",
        "  pagoFinal = pago + ((extras * sueldoH)*2)\n",
        "  print(nombre,\"Su pago total es de $\",pagoFinal)"
      ],
      "execution_count": 9,
      "outputs": [
        {
          "output_type": "stream",
          "text": [
            "Ingrese el nombre del trabajador\n",
            "A\n",
            "¿Cuantas horas trabajo esta semana? A :\n",
            "39\n",
            "¿Cuanto se le paga por hora?:\n",
            "10\n",
            "A Su pago total es de $ 390.0\n"
          ],
          "name": "stdout"
        }
      ]
    },
    {
      "cell_type": "code",
      "metadata": {
        "colab": {
          "base_uri": "https://localhost:8080/"
        },
        "id": "Yt6-Cn2QZpYO",
        "outputId": "e43f80d3-fb57-4c26-f4d7-78bbe5f3c2b8"
      },
      "source": [
        "#Ejemplo 3\n",
        "#Calcular el salario semanal de x trabajador\n",
        "#El salario semanal se calcula en base a las horas semanales trabajadas\n",
        "#El pago por hora es variable (se pide por teclado)\n",
        "#Si las horas trabajadas superan las 40 horas, el pago por hora extra es:\n",
        "#Doble en el rango de 41horas a 50horas\n",
        "#Triple en el rango de 51horas a 60 horas\n",
        "#Incentivo de $2000 si rebasa las 60 horas.\n",
        "print(\"Ingrese el nombre del trabajador\")\n",
        "nombre=input()\n",
        "print(\"Cuántas horas trabajó en la semana\", nombre ,\":\")\n",
        "horas=input()\n",
        "horas=int(horas)\n",
        "print(\"Cuánto se paga por hora?:\")\n",
        "sueldoH=input()\n",
        "sueldoH=float(sueldoH)\n",
        "\n",
        "#Evaluar el sueldo\n",
        "\n",
        "if(horas<=40):\n",
        "  pago=horas * sueldoH\n",
        "  print(\"El sueldo final de: \",nombre,\"Es $\", pago)\n",
        "\n",
        "elif(horas>40 and horas <=50):\n",
        "  extrasDobles=horas-40\n",
        "  print(\"Horas extras dobles: \",extrasDobles)\n",
        "  pago=40*sueldoH\n",
        "  print(\"sueldo base:$\",pago)\n",
        "  pagoDoble=extrasDobles * sueldoH *2\n",
        "  print(\"pago de horas dobles:$\",pagoDoble)\n",
        "  pagoFinal=pago+pagoDoble\n",
        "  print(\"El sueldo final de: \",nombre,\"Es $\", pagoFinal)\n",
        "\n",
        "elif (horas>50 and horas <=60):\n",
        "  extrasTriples=horas-50\n",
        "  print(\"horas extra dobles: 10\")\n",
        "  print(\"horas extra triples: \",extrasTriples)\n",
        "  pago=40*sueldoH\n",
        "  print(\"sueldo base: $\", pago)\n",
        "  pagoDoble=10*sueldoH*2\n",
        "  print(\"pago de horas extras dobles:\", pagoDoble)\n",
        "  pagoTriple=extrasTriples * sueldoH *3\n",
        "  print(\"pago de horas extra triples:\",pagoTriple)\n",
        "  pagoFinal=pago + pagoDoble + pagoTriple\n",
        "  print(\"El sueldo final de: \",nombre,\"Es $\", pagoFinal)\n",
        "\n",
        "else:\n",
        "  extrasTriples=10\n",
        "  print(\"Horas extra dobles 10\")#Desgloce de las horas máximas\n",
        "  print(\"Horas extra triples 10\")\n",
        "  pago=40*sueldoH\n",
        "  print(\"Sueldo base $\",pago)\n",
        "  pagoDoble=10*sueldoH*2\n",
        "  print(\"Pago de horas extra dobles: $\",pagoDoble)\n",
        "  pagoTriple=extrasTriples * sueldoH *3\n",
        "  print(\"pagode horas extra triples:\",pagoTriple)\n",
        "  print(\"Incentivo por trabajar más de 60 horas:$2000\")\n",
        "  pagoFinal= pago + pagoDoble + pagoTriple + 2000\n",
        "  print(\"El sueldo final de: \",nombre,\"Es $\", pagoFinal)\n"
      ],
      "execution_count": 19,
      "outputs": [
        {
          "output_type": "stream",
          "text": [
            "Ingrese el nombre del trabajador\n",
            "L\n",
            "Cuántas horas trabajó en la semana L :\n",
            "30\n",
            "Cuánto se paga por hora?:\n",
            "10\n",
            "El sueldo final de:  L Es $ 300.0\n"
          ],
          "name": "stdout"
        }
      ]
    },
    {
      "cell_type": "code",
      "metadata": {
        "colab": {
          "base_uri": "https://localhost:8080/"
        },
        "id": "_Jav_bHgn37o",
        "outputId": "74141ec9-e45c-4063-ef2d-e92848c3abfb"
      },
      "source": [
        "#Estructura For Ejemplo1\n",
        "for estaciones_año in [\"primavera\",\"verano\",\"otoño\",\"invierno\"]:#in es una palabra reservada, elemento a recorrer\n",
        "  print(estaciones_año)\n",
        "\n",
        "#variables que suelen formar parte de for son \"i\""
      ],
      "execution_count": 21,
      "outputs": [
        {
          "output_type": "stream",
          "text": [
            "primavera\n",
            "verano\n",
            "otoño\n",
            "invierno\n"
          ],
          "name": "stdout"
        }
      ]
    },
    {
      "cell_type": "code",
      "metadata": {
        "colab": {
          "base_uri": "https://localhost:8080/"
        },
        "id": "wBtsTqNyqXT4",
        "outputId": "8bf8be29-f228-46f5-f8ed-742f76d8131f"
      },
      "source": [
        "for estaciones_año in [\"primavera\",\"verano\",\"otoño\",\"invierno\", \"venus\"]:#in es una palabra reservada, elemento a recorrer\n",
        "  print(\"Hola\")"
      ],
      "execution_count": 22,
      "outputs": [
        {
          "output_type": "stream",
          "text": [
            "Hola\n",
            "Hola\n",
            "Hola\n",
            "Hola\n",
            "Hola\n"
          ],
          "name": "stdout"
        }
      ]
    }
  ]
}