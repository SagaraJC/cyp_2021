{
  "nbformat": 4,
  "nbformat_minor": 0,
  "metadata": {
    "colab": {
      "name": "26/01/21CyP.ipynb",
      "provenance": [],
      "authorship_tag": "ABX9TyMr06KuWwodlkQg41j8wMk/",
      "include_colab_link": true
    },
    "kernelspec": {
      "name": "python3",
      "display_name": "Python 3"
    }
  },
  "cells": [
    {
      "cell_type": "markdown",
      "metadata": {
        "id": "view-in-github",
        "colab_type": "text"
      },
      "source": [
        "<a href=\"https://colab.research.google.com/github/SagaraJC/cyp_2021/blob/main/26_01_21CyP.ipynb\" target=\"_parent\"><img src=\"https://colab.research.google.com/assets/colab-badge.svg\" alt=\"Open In Colab\"/></a>"
      ]
    },
    {
      "cell_type": "markdown",
      "metadata": {
        "id": "NPvEO_XBsoFp"
      },
      "source": [
        "# Lista de Python 3\r\n",
        "1. Es una estructura de datos lineales de 0 o n elementos.\r\n",
        "1. \"Equivalente\" a los arreglos.\r\n",
        "1. Pueden ser de diferente tipo de dato.[1,2,32,12], [1,True,2.34,\"Hola\"]\r\n",
        "1. Pueden ser anidados; listas de listas.[\"Melón\", \"manzana roja\",[ \"manzana amarilla\", \"manzana rallada\"]]\r\n",
        "1. Su selector es de la forma: [int]\r\n",
        "1. Son mutables.\r\n"
      ]
    },
    {
      "cell_type": "code",
      "metadata": {
        "id": "UADiNxywq7v3"
      },
      "source": [
        "#Ejemplos\r\n",
        "numeros = [4,2,45,7,83,3]\r\n",
        "print(numeros)\r\n",
        "print(numeros[2])\r\n",
        "\r\n",
        "#Una lista de 0 elementos\r\n",
        "colores = [] #List()\r\n",
        "type(colores) #Averiguar que tipo de dato es una variable con la función type\r\n",
        "dias = list()\r\n",
        "print(colores)\r\n",
        "print(dias)"
      ],
      "execution_count": null,
      "outputs": []
    },
    {
      "cell_type": "code",
      "metadata": {
        "id": "5LTJLqDjwMF7"
      },
      "source": [
        "#Pueden ser de diferentes tipos de datos\r\n",
        "\r\n",
        "mi_lista = [1,2,3,\"José\",False,1.76,[552345653,44553412,55667788]]\r\n",
        "print(mi_lista)\r\n",
        "print(mi_lista[5])\r\n",
        "print(mi_lista[6][1])\r\n",
        "print(mi_lista[3][3]) #print(mi_lista[3][3::]) con slice\r\n",
        "print(str(mi_lista[6][1])[2])#Convertimos a string y sacamos el numero deseado\r\n"
      ],
      "execution_count": null,
      "outputs": []
    },
    {
      "cell_type": "code",
      "metadata": {
        "id": "A7J7P8Iw0Rqw"
      },
      "source": [
        "frutas = [\"melon\", \"sandía\",\"kiwi\",\"aguacate\",\"mango\",\"plátano\"]\r\n",
        "print(frutas)\r\n",
        "frutas[0]=\"Melón\" #Se puede modificar los elementos enlistados\r\n",
        "#frutas[1] = \"S\"\r\n",
        "#print(frutas)\r\n",
        "#frutas[1][0] = \"S\"\r\n",
        "frutas[1]=frutas[1].capitalize()\r\n",
        "#Listas Son clases por lo tanto tienene métodos\r\n",
        "#help(frutas)   dir(frutas)\r\n",
        "#append agrega un elemento al final\r\n",
        "frutas.append(\"Fresa\")\r\n",
        "print(frutas)\r\n",
        "frutas.clear()\r\n"
      ],
      "execution_count": null,
      "outputs": []
    },
    {
      "cell_type": "code",
      "metadata": {
        "id": "dN-YalEA3fIu"
      },
      "source": [
        "#Copias\r\n",
        "frutas = [\"melon\", \"sandía\",\"kiwi\",\"aguacate\",\"mango\",\"plátano\"]\r\n",
        "print(\"\\nEjemplo de copias\")\r\n",
        "otras_frutas = frutas.copy()\r\n",
        "print(frutas)\r\n",
        "print(otras_frutas)\r\n",
        "print(\"\")\r\n",
        "otras_frutas[0] = \"CHICO ZAPOTE\"\r\n",
        "print(otras_frutas)\r\n",
        "print(frutas)\r\n",
        "print(\"\")\r\n",
        "print(\"Ejemplo de extend\")\r\n",
        "colores [\"rojo\",\"verde\", \"azul\"]\r\n",
        "frutas.extend(colores)\r\n",
        "print(frutas)\r\n",
        "print(\"Ejemplo insert\")\r\n",
        "print(f\"tamaño de la lista={len(frutas)}\")\r\n",
        "frutas.insert(3,\"Limón\")\r\n",
        "print(f\"tamaño de la lista={len(frutas)}\")\r\n",
        "print(frutas)\r\n",
        "\r\n",
        "print(\"Ejemplo remove, eliminar kiwi\")\r\n",
        "frutas.remove(\"kiwi\")\r\n",
        "print(frutas)\r\n",
        "\r\n",
        "print(\"Ejemplo con del\")\r\n",
        "del fruta[2] #Operador de lista"
      ],
      "execution_count": null,
      "outputs": []
    },
    {
      "cell_type": "code",
      "metadata": {
        "id": "0QBm3A9I-8m9"
      },
      "source": [
        "cosas = [\"jose\", True, 2,3,4,5, \"pedro\",1.23]\r\n",
        "for elemento in cosas:\r\n",
        "  print(type(elemento))\r\n",
        "  if isinstance(elemento, int):\r\n",
        "    print(\"entero\",elemento)\r\n",
        "    del cosas [indice]\r\n",
        "    a_eliminar.append(indice)\r\n",
        "  indice += 1\r\n",
        "  print(a_eliminar)\r\n",
        "  for indice in a_eliminar:\r\n",
        "    print(indice)\r\n",
        "    cosas.remove(indice)\r\n",
        "  print(cosas)"
      ],
      "execution_count": null,
      "outputs": []
    },
    {
      "cell_type": "code",
      "metadata": {
        "colab": {
          "base_uri": "https://localhost:8080/"
        },
        "id": "MQ1eQgWTFHEr",
        "outputId": "2521a93a-a56c-464b-8736-77b08deadd3d"
      },
      "source": [
        "#Slicing sobre listas\r\n",
        "frutas = [\"melon\", \"sandía\",\"kiwi\",\"aguacate\",\"mango\",\"plátano\"]\r\n",
        "print(frutas[1:4:])\r\n",
        "sistemas_operativos = [\"Windows\", \"Mac OS\", \"Linux\",\"Android\"]\r\n",
        "autos =[\"Ford\", \"mazda\", \"Honda\"]\r\n",
        "\r\n",
        "cosas = [sistemas_operativos, autos]\r\n",
        "print(cosas)\r\n",
        "print(cosas[1])\r\n",
        "print(cosas[0][2])\r\n",
        "print(cosas[0][3][2:5:])\r\n",
        "print(cosas[1][1][-2:-5:-1])"
      ],
      "execution_count": 15,
      "outputs": [
        {
          "output_type": "stream",
          "text": [
            "['sandía', 'kiwi', 'aguacate']\n",
            "[['Windows', 'Mac OS', 'Linux', 'Android'], ['Ford', 'mazda', 'Honda']]\n",
            "['Ford', 'mazda', 'Honda']\n",
            "Linux\n",
            "dro\n",
            "dza\n"
          ],
          "name": "stdout"
        }
      ]
    }
  ]
}