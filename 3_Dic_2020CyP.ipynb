{
  "nbformat": 4,
  "nbformat_minor": 0,
  "metadata": {
    "colab": {
      "name": "3_Dic_2020CyP.ipynb",
      "provenance": [],
      "authorship_tag": "ABX9TyOeZcbu2qeSEJvqbgBn4d/d",
      "include_colab_link": true
    },
    "kernelspec": {
      "name": "python3",
      "display_name": "Python 3"
    }
  },
  "cells": [
    {
      "cell_type": "markdown",
      "metadata": {
        "id": "view-in-github",
        "colab_type": "text"
      },
      "source": [
        "<a href=\"https://colab.research.google.com/github/SagaraJC/cyp_2021/blob/main/3_Dic_2020CyP.ipynb\" target=\"_parent\"><img src=\"https://colab.research.google.com/assets/colab-badge.svg\" alt=\"Open In Colab\"/></a>"
      ]
    },
    {
      "cell_type": "code",
      "metadata": {
        "colab": {
          "base_uri": "https://localhost:8080/"
        },
        "id": "NXyChS9-jwfq",
        "outputId": "5d7652a5-56e9-468f-9df4-4c914624c99a"
      },
      "source": [
        "#Ejempo uno\n",
        "for i in[1,2,3,5]:\n",
        "  print(f\"El elemento: {i}\")"
      ],
      "execution_count": 1,
      "outputs": [
        {
          "output_type": "stream",
          "text": [
            "El elemento: 1\n",
            "El elemento: 2\n",
            "El elemento: 3\n",
            "El elemento: 5\n"
          ],
          "name": "stdout"
        }
      ]
    },
    {
      "cell_type": "code",
      "metadata": {
        "colab": {
          "base_uri": "https://localhost:8080/"
        },
        "id": "e1gPFg2ynOfn",
        "outputId": "be2fb969-1ecd-4409-f2a2-b0e82ea0e696"
      },
      "source": [
        "#Otra forma de usar colecciones\n",
        "coleccion=[1,2,3,4,5]\n",
        "for i in coleccion:\n",
        "  print(f\"El elemento: {i}\")"
      ],
      "execution_count": 2,
      "outputs": [
        {
          "output_type": "stream",
          "text": [
            "El elemento: 1\n",
            "El elemento: 2\n",
            "El elemento: 3\n",
            "El elemento: 4\n",
            "El elemento: 5\n"
          ],
          "name": "stdout"
        }
      ]
    },
    {
      "cell_type": "code",
      "metadata": {
        "colab": {
          "base_uri": "https://localhost:8080/"
        },
        "id": "Z8i5MClEnjWd",
        "outputId": "f497aa72-bdf4-4af5-e795-b09132217332"
      },
      "source": [
        "#Ejemplo2\n",
        "coleccion={\"Mario\":20,\"Mariana\":19,\"Yessica\":14,\"Luis\":18}\n",
        "for i in coleccion:\n",
        "  print(f\"Elemento:{i}\")\n"
      ],
      "execution_count": 3,
      "outputs": [
        {
          "output_type": "stream",
          "text": [
            "Elemento:Mario\n",
            "Elemento:Mariana\n",
            "Elemento:Yessica\n",
            "Elemento:Luis\n"
          ],
          "name": "stdout"
        }
      ]
    },
    {
      "cell_type": "code",
      "metadata": {
        "colab": {
          "base_uri": "https://localhost:8080/"
        },
        "id": "Gyz7byWMotRC",
        "outputId": "1b716444-9ade-488b-d959-65b61a2e5e33"
      },
      "source": [
        "coleccion={\"Mario\":20,\"Mariana\":19,\"Yessica\":14,\"Luis\":18}\n",
        "for i in coleccion:\n",
        "  print(f\"{coleccion[i]}\")"
      ],
      "execution_count": 4,
      "outputs": [
        {
          "output_type": "stream",
          "text": [
            "20\n",
            "19\n",
            "14\n",
            "18\n"
          ],
          "name": "stdout"
        }
      ]
    },
    {
      "cell_type": "code",
      "metadata": {
        "colab": {
          "base_uri": "https://localhost:8080/"
        },
        "id": "YNPIZwJ5pw2D",
        "outputId": "8be5e978-875c-410f-a5c0-e2c4c806a86d"
      },
      "source": [
        "coleccion={\"Mario\":20,\"Mariana\":19,\"Yessica\":14,\"Luis\":18}\n",
        "for i in coleccion:\n",
        "  print(f\"{i}->{coleccion[i]}\")"
      ],
      "execution_count": 5,
      "outputs": [
        {
          "output_type": "stream",
          "text": [
            "Mario->20\n",
            "Mariana->19\n",
            "Yessica->14\n",
            "Luis->18\n"
          ],
          "name": "stdout"
        }
      ]
    },
    {
      "cell_type": "code",
      "metadata": {
        "colab": {
          "base_uri": "https://localhost:8080/"
        },
        "id": "OB-PsWfjrRk5",
        "outputId": "e7eb52d8-d70f-4368-c39f-21f05c836eb1"
      },
      "source": [
        "coleccion={\"Mario\":20,\"Mariana\":19,\"Yessica\":14,\"Luis\":18}\n",
        "for clave, valor in coleccion.items():\n",
        "  print(f\"{clave}->{valor}\")"
      ],
      "execution_count": 8,
      "outputs": [
        {
          "output_type": "stream",
          "text": [
            "Mario->20\n",
            "Mariana->19\n",
            "Yessica->14\n",
            "Luis->18\n"
          ],
          "name": "stdout"
        }
      ]
    },
    {
      "cell_type": "code",
      "metadata": {
        "colab": {
          "base_uri": "https://localhost:8080/"
        },
        "id": "_vEpnX92sJ58",
        "outputId": "48265b9d-e351-4287-f322-e056d034612e"
      },
      "source": [
        "#Ejemplo3 identificar correo\n",
        "email=False\n",
        "for i in\"ariel@unam.mx\":\n",
        "  if(i == \"@\"):\n",
        "    email=True\n",
        "if email == True:\n",
        "  print(\"El email es correcto\")\n",
        "\n",
        "else:\n",
        "  print(\"El correo no es correcto\")"
      ],
      "execution_count": 9,
      "outputs": [
        {
          "output_type": "stream",
          "text": [
            "El email es correcto\n"
          ],
          "name": "stdout"
        }
      ]
    },
    {
      "cell_type": "code",
      "metadata": {
        "id": "zCRUW-TBtdOg"
      },
      "source": [
        "email=False\n",
        "miEmail=input(\"Introduce tu correo electrónico\")\n",
        "\n",
        "for i in miEmail:\n",
        "  if(i == \"@\"):\n",
        "    email=True\n",
        "\n",
        "if email:\n",
        "  print(\"El email es correcto\")\n",
        "\n",
        "else:\n",
        "  print(\"El correo no es correcto\")"
      ],
      "execution_count": null,
      "outputs": []
    },
    {
      "cell_type": "code",
      "metadata": {
        "colab": {
          "base_uri": "https://localhost:8080/"
        },
        "id": "thdlKzCQu2US",
        "outputId": "cb685cb8-5f80-4e32-f286-a07a5c3f4a02"
      },
      "source": [
        "#For-Range\n",
        "for i in range (5):\n",
        "  print(\"hola\")"
      ],
      "execution_count": 10,
      "outputs": [
        {
          "output_type": "stream",
          "text": [
            "hola\n",
            "hola\n",
            "hola\n",
            "hola\n",
            "hola\n"
          ],
          "name": "stdout"
        }
      ]
    },
    {
      "cell_type": "code",
      "metadata": {
        "colab": {
          "base_uri": "https://localhost:8080/"
        },
        "id": "iS4XNfmOviw3",
        "outputId": "8236a149-a51c-49d5-ef0f-c5805e3c5edc"
      },
      "source": [
        "for i in range (5):\n",
        "  print(i)"
      ],
      "execution_count": 11,
      "outputs": [
        {
          "output_type": "stream",
          "text": [
            "0\n",
            "1\n",
            "2\n",
            "3\n",
            "4\n"
          ],
          "name": "stdout"
        }
      ]
    },
    {
      "cell_type": "code",
      "metadata": {
        "id": "5rOG4_74wPdY"
      },
      "source": [
        "for i in range (20):\n",
        "  print(f\"valor de la variable{i}\")"
      ],
      "execution_count": null,
      "outputs": []
    },
    {
      "cell_type": "code",
      "metadata": {
        "id": "1tn9QR9bxUGm"
      },
      "source": [
        "#While ejemplos Ejemplo 1\n",
        "i=1       #Sale bucle y necesita un +1 para romper el bucle\n",
        "while i<=10:\n",
        "  print(\"Ejecución\"+str(i))\n"
      ],
      "execution_count": null,
      "outputs": []
    },
    {
      "cell_type": "code",
      "metadata": {
        "id": "SB7SulCtz0XS"
      },
      "source": [
        "i=1       \n",
        "while i<=10:\n",
        "  print(\"Ejecución\"+str(i))\n",
        "  i=i+1 #Se le conoce como contador(incrementa en uno la variable)"
      ],
      "execution_count": null,
      "outputs": []
    },
    {
      "cell_type": "code",
      "metadata": {
        "colab": {
          "base_uri": "https://localhost:8080/"
        },
        "id": "0IOi3hBr0grO",
        "outputId": "8e8a8041-ba67-4153-97e8-0a8bee95903c"
      },
      "source": [
        "edad=int(input(\"introduce tu edad:\"))\n",
        "while edad < 0:\n",
        "  print(\"Has introducido una edad negativa, Intentalo de nuevo\")\n",
        "  edad=int(input(\"Introduce tu edad:\"))\n",
        "print(\"Gracias por participar, puedes pasar :D\")\n",
        "print(\"Edad del Aspirante\"+str (edad))"
      ],
      "execution_count": 16,
      "outputs": [
        {
          "output_type": "stream",
          "text": [
            "introduce tu edad:-9\n",
            "Has introducido una edad negativa, Intentalo de nuevo\n",
            "Introduce tu edad:-4\n",
            "Has introducido una edad negativa, Intentalo de nuevo\n",
            "Introduce tu edad:18\n",
            "Gracias por participar, puedes pasar :D\n",
            "Edad del Aspirante18\n"
          ],
          "name": "stdout"
        }
      ]
    },
    {
      "cell_type": "code",
      "metadata": {
        "colab": {
          "base_uri": "https://localhost:8080/"
        },
        "id": "RPu8ih3w13bY",
        "outputId": "87e85656-14ce-4800-9cc8-241b539e8762"
      },
      "source": [
        "edad=int(input(\"introduce tu edad:\"))\n",
        "while edad < 10 or edad > 101:\n",
        "  print(\"Has introducido una edad negativa, Intentalo de nuevo\")\n",
        "  edad=int(input(\"Introduce tu edad:\"))\n",
        "print(\"Gracias por participar, puedes pasar :D\")\n",
        "print(\"Edad del Aspirante\"+str (edad))"
      ],
      "execution_count": 18,
      "outputs": [
        {
          "output_type": "stream",
          "text": [
            "introduce tu edad:100\n",
            "Gracias por participar, puedes pasar :D\n",
            "Edad del Aspirante100\n"
          ],
          "name": "stdout"
        }
      ]
    }
  ]
}