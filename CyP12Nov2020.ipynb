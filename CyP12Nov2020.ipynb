{
  "nbformat": 4,
  "nbformat_minor": 0,
  "metadata": {
    "colab": {
      "name": "CyP12Nov2020.ipynb",
      "provenance": [],
      "authorship_tag": "ABX9TyOEob5QwLyVzONgkfvcZcDx",
      "include_colab_link": true
    },
    "kernelspec": {
      "name": "python3",
      "display_name": "Python 3"
    }
  },
  "cells": [
    {
      "cell_type": "markdown",
      "metadata": {
        "id": "view-in-github",
        "colab_type": "text"
      },
      "source": [
        "<a href=\"https://colab.research.google.com/github/SagaraJC/cyp_2021/blob/main/CyP12Nov2020.ipynb\" target=\"_parent\"><img src=\"https://colab.research.google.com/assets/colab-badge.svg\" alt=\"Open In Colab\"/></a>"
      ]
    },
    {
      "cell_type": "code",
      "metadata": {
        "id": "U9vevBNicF4K",
        "outputId": "5cd4cdb6-9a2a-4ad3-fcfd-e1a691ed2148",
        "colab": {
          "base_uri": "https://localhost:8080/"
        }
      },
      "source": [
        "#Ejemplo1\n",
        "número=int (input(\"Dame un número\"))\n",
        "if número >0:\n",
        "  print(\"El número es positivo\")\n",
        "  \n",
        "print(\"Fin del programa\")"
      ],
      "execution_count": 1,
      "outputs": [
        {
          "output_type": "stream",
          "text": [
            "Dame un número8\n",
            "El número es positivo\n",
            "Fin del programa\n"
          ],
          "name": "stdout"
        }
      ]
    },
    {
      "cell_type": "code",
      "metadata": {
        "id": "laM0AoYXfFBA",
        "outputId": "8dc4cc74-36d1-4577-e531-082343c7cf97",
        "colab": {
          "base_uri": "https://localhost:8080/"
        }
      },
      "source": [
        "#Ejemplo2\n",
        "numero= int(input(\"Digite un número)\"))\n",
        "if numero >0:\n",
        "  print(\"El número es positivo\")\n",
        "elif numero==0:\n",
        "  print(\"El número es 0\")\n",
        "\n",
        "else: #Sino imprime negativo\n",
        "  print(\"El número es negativo\")\n",
        "\n",
        "print(\"Fin del programa\")"
      ],
      "execution_count": 7,
      "outputs": [
        {
          "output_type": "stream",
          "text": [
            "Digite un número)8\n",
            "El número es positivo\n",
            "Fin del programa\n"
          ],
          "name": "stdout"
        }
      ]
    },
    {
      "cell_type": "code",
      "metadata": {
        "id": "gKZkApWLeJ9c"
      },
      "source": [
        ""
      ],
      "execution_count": null,
      "outputs": []
    }
  ]
}