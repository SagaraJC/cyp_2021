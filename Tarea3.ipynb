{
  "nbformat": 4,
  "nbformat_minor": 0,
  "metadata": {
    "colab": {
      "name": "Tarea3.ipynb",
      "provenance": [],
      "authorship_tag": "ABX9TyMa8M0wEQiSGZXQfx8PleZz",
      "include_colab_link": true
    },
    "kernelspec": {
      "name": "python3",
      "display_name": "Python 3"
    }
  },
  "cells": [
    {
      "cell_type": "markdown",
      "metadata": {
        "id": "view-in-github",
        "colab_type": "text"
      },
      "source": [
        "<a href=\"https://colab.research.google.com/github/SagaraJC/cyp_2021/blob/main/Tarea3.ipynb\" target=\"_parent\"><img src=\"https://colab.research.google.com/assets/colab-badge.svg\" alt=\"Open In Colab\"/></a>"
      ]
    },
    {
      "cell_type": "code",
      "metadata": {
        "colab": {
          "base_uri": "https://localhost:8080/"
        },
        "id": "kr4Y9GTy4m0l",
        "outputId": "0d3dc5c8-5595-4d80-dc0e-bb323a7567b9"
      },
      "source": [
        "#Problema 1.1   \n",
        "prepro=0\n",
        "pago=0\n",
        "cambio=0\n",
        "\n",
        "prepro=float (input(\"Dame el valor de la mercancía: \"))\n",
        "pago=float (input(\"Dame el pago: \"))\n",
        "cambio= pago - prepro\n",
        "\n",
        "print(f\"El cambio es: {cambio}\")"
      ],
      "execution_count": 6,
      "outputs": [
        {
          "output_type": "stream",
          "text": [
            "Dame el valor de la mercancía: 15\n",
            "Dame el pago: 22.5\n",
            "El cambio es:7.5\n"
          ],
          "name": "stdout"
        }
      ]
    },
    {
      "cell_type": "code",
      "metadata": {
        "colab": {
          "base_uri": "https://localhost:8080/"
        },
        "id": "d5lLj6p8Eu7h",
        "outputId": "bd60f358-9e6f-4ca9-c1e7-e5e84969a602"
      },
      "source": [
        "#Problema 1.2\n",
        "base=0\n",
        "altura=0\n",
        "perim=0\n",
        "\n",
        "base= float (input(\"Dame la base: \"))\n",
        "altura= float (input(\"Dame la altura: \"))\n",
        "perim=(base * altura) / 2\n",
        "\n",
        "print(f\"La superficie es {perim}\")"
      ],
      "execution_count": 11,
      "outputs": [
        {
          "output_type": "stream",
          "text": [
            "Dame la base: 8.50\n",
            "Dame la altura: 7.20\n",
            "La superficie es 30.6\n"
          ],
          "name": "stdout"
        }
      ]
    },
    {
      "cell_type": "code",
      "metadata": {
        "colab": {
          "base_uri": "https://localhost:8080/"
        },
        "id": "VsTM68sjGyz2",
        "outputId": "998155da-98b5-46ce-c22c-a8169562154a"
      },
      "source": [
        "#Problema 1.3\n",
        "nombre=0\n",
        "peso=0\n",
        "longi=0\n",
        "\n",
        "nombre= input(\"Cuál es el nombre de tu dinosaurio? \")\n",
        "peso= float (input(\"Dame su peso en toneladas \"))\n",
        "longi= float (input(\"Dame su longitud en pies \"))\n",
        "pesok=peso * 1000\n",
        "longim=longi * 0.3047\n",
        "\n",
        "print(f\"El peso en kg de tu dinosarurio {nombre} es: {pesok}\")\n",
        "print(f\"La longitud en metros de tu dinosarurio {nombre} es: {longim}\")"
      ],
      "execution_count": 12,
      "outputs": [
        {
          "output_type": "stream",
          "text": [
            "Cuál es el nombre de tu dinosaurio? PLATE05AURU5\n",
            "Dame su peso en toneladas 5\n",
            "Dame su longitud en pies 30\n",
            "El peso en kg de tu dinosarurio PLATE05AURU5 es: 5000.0\n",
            "La longitud en metros de tu dinosarurio PLATE05AURU5 es: 9.141\n"
          ],
          "name": "stdout"
        }
      ]
    },
    {
      "cell_type": "code",
      "metadata": {
        "colab": {
          "base_uri": "https://localhost:8080/"
        },
        "id": "5ZBGZ5StJKbE",
        "outputId": "325cb3c4-a8e2-4d60-ccf7-4601708134a9"
      },
      "source": [
        "#Problema 1.4\n",
        "gal=0\n",
        "total=0\n",
        "\n",
        "gal= float (input(\"Dame los galones que comprarás \"))\n",
        "total= gal * 3.785 * 8.20\n",
        "\n",
        "print(f\"Su total a pagar son ${total}\")"
      ],
      "execution_count": 13,
      "outputs": [
        {
          "output_type": "stream",
          "text": [
            "Dame los galones que comprarás 15\n",
            "Su total a pagar son $465.555\n"
          ],
          "name": "stdout"
        }
      ]
    },
    {
      "cell_type": "code",
      "metadata": {
        "colab": {
          "base_uri": "https://localhost:8080/"
        },
        "id": "KULOy5poKLYB",
        "outputId": "51dd661d-3924-4c52-b0b6-b15e04026532"
      },
      "source": [
        "#problema 1.5\n",
        "radio=0\n",
        "altu=0\n",
        "volumen=0\n",
        "area=0\n",
        "\n",
        "radio= float (input(\"Dame el radio \"))\n",
        "altu= float (input(\"Dame la altura \"))\n",
        "volumen= (3.141592 * radio **2) * altu\n",
        "area= (2*2.141592)*radio*altu\n",
        "\n",
        "print(f\"El volumen es: {volumen}\")\n",
        "print(f\"El área es: {area}\")"
      ],
      "execution_count": 14,
      "outputs": [
        {
          "output_type": "stream",
          "text": [
            "Dame el radio 15\n",
            "Dame la altura 4\n",
            "El volumen es: 2827.4328\n",
            "El área es: 256.99104\n"
          ],
          "name": "stdout"
        }
      ]
    },
    {
      "cell_type": "code",
      "metadata": {
        "colab": {
          "base_uri": "https://localhost:8080/"
        },
        "id": "LSp7jQ3rMuCn",
        "outputId": "f63609e9-b0b5-447f-c55f-fd155037cce0"
      },
      "source": [
        "#Problema 1.6\n",
        "dias=0\n",
        "segu=0\n",
        "\n",
        "dias= int (input(\"Dame el número de días a transformar \"))\n",
        "segu=dias * 24 * 60 * 60\n",
        "\n",
        "print(f\"¡En {dias} días hay {segu} segundos! :D\")"
      ],
      "execution_count": 16,
      "outputs": [
        {
          "output_type": "stream",
          "text": [
            "Dame el número de días a transformar 4\n",
            "¡En 4 días hay 345600 segundos! :D\n"
          ],
          "name": "stdout"
        }
      ]
    }
  ]
}