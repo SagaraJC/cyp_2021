{
  "nbformat": 4,
  "nbformat_minor": 0,
  "metadata": {
    "colab": {
      "name": "Tarea4.ipynb",
      "provenance": [],
      "authorship_tag": "ABX9TyP9sDPgIogBpD8lR9BFmN41",
      "include_colab_link": true
    },
    "kernelspec": {
      "name": "python3",
      "display_name": "Python 3"
    }
  },
  "cells": [
    {
      "cell_type": "markdown",
      "metadata": {
        "id": "view-in-github",
        "colab_type": "text"
      },
      "source": [
        "<a href=\"https://colab.research.google.com/github/SagaraJC/cyp_2021/blob/main/Tarea4.ipynb\" target=\"_parent\"><img src=\"https://colab.research.google.com/assets/colab-badge.svg\" alt=\"Open In Colab\"/></a>"
      ]
    },
    {
      "cell_type": "code",
      "metadata": {
        "colab": {
          "base_uri": "https://localhost:8080/"
        },
        "id": "Km8EEVxXC2Bc",
        "outputId": "359f4b78-f56a-4cbf-ccaa-2cb55c27c212"
      },
      "source": [
        "#Ejercicio 2.4\n",
        "Sue=float(input(\"Sueldo \"))\n",
        "\n",
        "if(Sue<1000):\n",
        "  S=((Sue*15)/100)+Sue\n",
        "  print(f\"Nuevo sueldo {S}\")\n",
        "else:\n",
        "  suel=((Sue*12)/100)+Sue\n",
        "  print(\"Su nuevo sueldo es\",suel)"
      ],
      "execution_count": 9,
      "outputs": [
        {
          "output_type": "stream",
          "text": [
            "Sueldo 840.5\n",
            "Nuevo sueldo 966.575\n"
          ],
          "name": "stdout"
        }
      ]
    },
    {
      "cell_type": "code",
      "metadata": {
        "colab": {
          "base_uri": "https://localhost:8080/"
        },
        "id": "j2NG3rh1O-c-",
        "outputId": "ffe86867-6059-4221-9d7f-209439cf5f15"
      },
      "source": [
        "#Ejercicio 2.8\n",
        "sue=float(input(\"Introduce tu sueldo \"))\n",
        "cate=int(input(\"Introduce tu categoría \"))\n",
        "if(cate==1):\n",
        "  nsue=((sue*15)/100)+sue\n",
        "  print(\"Su nuevo sueldo para la categoría\",cate, \"es\",nsue)\n",
        "if(cate==2):\n",
        "  nsue=((sue*10)/100)+sue\n",
        "  print(\"Su nuevo sueldo para la categoría\",cate, \"es\",nsue)\n",
        "if(cate==3):\n",
        "  nsue=((sue*8)/100)+sue\n",
        "  print(\"Su nuevo sueldo para la categoría\",cate, \"es\",nsue)\n",
        "if(cate==4):\n",
        "  nsue=((sue*7)/100)+sue\n",
        "  print(\"Su nuevo sueldo para la categoría\",cate, \"es\",nsue)\n",
        "if(cate<1):\n",
        "  print(\"Esa no es una categoría válida\")\n",
        "if(cate>4):\n",
        "    print(\"Esa no es una categoría válida\")"
      ],
      "execution_count": 32,
      "outputs": [
        {
          "output_type": "stream",
          "text": [
            "Introduce tu sueldo 1100\n",
            "Introduce tu categoría 6\n",
            "Esa no es una categoría válida\n"
          ],
          "name": "stdout"
        }
      ]
    },
    {
      "cell_type": "markdown",
      "metadata": {
        "id": "XMc2gkq4FfBz"
      },
      "source": [
        ""
      ]
    }
  ]
}