{
  "nbformat": 4,
  "nbformat_minor": 0,
  "metadata": {
    "colab": {
      "name": "Tarea5.ipynb",
      "provenance": [],
      "authorship_tag": "ABX9TyMy27bXwAUbwlidzFpudOug",
      "include_colab_link": true
    },
    "kernelspec": {
      "name": "python3",
      "display_name": "Python 3"
    }
  },
  "cells": [
    {
      "cell_type": "markdown",
      "metadata": {
        "id": "view-in-github",
        "colab_type": "text"
      },
      "source": [
        "<a href=\"https://colab.research.google.com/github/SagaraJC/cyp_2021/blob/main/Tarea5.ipynb\" target=\"_parent\"><img src=\"https://colab.research.google.com/assets/colab-badge.svg\" alt=\"Open In Colab\"/></a>"
      ]
    },
    {
      "cell_type": "code",
      "metadata": {
        "id": "qkAf9DygRwq-",
        "colab": {
          "base_uri": "https://localhost:8080/"
        },
        "outputId": "02cab134-d8db-4106-8493-5a54023aabb7"
      },
      "source": [
        "#Ejemplo 3.1\n",
        "empleados= int(input(\"¿Cuantos empleados hay en la empresa? \"))\n",
        "empleados = empleados + 1\n",
        "sueldo = 0\n",
        "nomina = 0\n",
        "\n",
        "for i in range(1, empleados):\n",
        "   sueldo = float(input(f\"ingrese el sueldo {i} \"))\n",
        "   nomina= nomina + sueldo\n",
        "print(f\"la nomina es {nomina}\")"
      ],
      "execution_count": 27,
      "outputs": [
        {
          "output_type": "stream",
          "text": [
            "¿Cuantos empleados hay en la empresa? 5\n",
            "ingrese el sueldo 1 1\n",
            "ingrese el sueldo 2 1\n",
            "ingrese el sueldo 3 1\n",
            "ingrese el sueldo 4 1\n",
            "ingrese el sueldo 5 1\n",
            "la nomina es 5.0\n"
          ],
          "name": "stdout"
        }
      ]
    },
    {
      "cell_type": "code",
      "metadata": {
        "colab": {
          "base_uri": "https://localhost:8080/"
        },
        "id": "DMidq_-QfnWK",
        "outputId": "3a6dfc0b-acfb-4f3d-f99c-902d1d1c8782"
      },
      "source": [
        "#Ejemplo 3.4\n",
        "sumgas=0\n",
        "gasto=float(input(\"ingrese su gasto \"))\n",
        "while gasto > 0 :\n",
        "  sumgas=gasto+sumgas\n",
        "  gasto=float(input(\"ingrese su gasto \"))\n",
        "\n",
        "else:\n",
        "  print(f\"su gasto total es: {sumgas}$\")"
      ],
      "execution_count": 19,
      "outputs": [
        {
          "output_type": "stream",
          "text": [
            "ingrese su gasto 9\n",
            "ingrese su gasto 16\n",
            "ingrese su gasto 28\n",
            "ingrese su gasto 0\n",
            "su gasto total es: 53.0$\n"
          ],
          "name": "stdout"
        }
      ]
    }
  ]
}