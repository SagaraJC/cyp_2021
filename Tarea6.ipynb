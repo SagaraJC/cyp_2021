{
  "nbformat": 4,
  "nbformat_minor": 0,
  "metadata": {
    "colab": {
      "name": "Tarea6.ipynb",
      "provenance": [],
      "collapsed_sections": [],
      "authorship_tag": "ABX9TyNddR5UfytNDL3PLIxziAcC",
      "include_colab_link": true
    },
    "kernelspec": {
      "display_name": "Python 3",
      "name": "python3"
    }
  },
  "cells": [
    {
      "cell_type": "markdown",
      "metadata": {
        "id": "view-in-github",
        "colab_type": "text"
      },
      "source": [
        "<a href=\"https://colab.research.google.com/github/SagaraJC/cyp_2021/blob/main/Tarea6.ipynb\" target=\"_parent\"><img src=\"https://colab.research.google.com/assets/colab-badge.svg\" alt=\"Open In Colab\"/></a>"
      ]
    },
    {
      "cell_type": "code",
      "metadata": {
        "id": "YKnWwDncz9Rz"
      },
      "source": [
        "#Problema 3.3 \r\n",
        "serie = 0\r\n",
        "n = int(input(\"Dame un número: \"))\r\n",
        "band = True\r\n",
        "I=1\r\n",
        "while (I <= n):\r\n",
        "  print(f\"{I+1} , \", end=\"\") \r\n",
        "  if band == True:\r\n",
        "    serie= serie + 1 / I\r\n",
        "    band= False\r\n",
        "  else:\r\n",
        "    serie = serie -1 / I\r\n",
        "    band = True\r\n",
        "  I = I + 1\r\n",
        "  print(\"\\n\", serie)\r\n"
      ],
      "execution_count": null,
      "outputs": []
    },
    {
      "cell_type": "code",
      "metadata": {
        "id": "vl7mqhYX_c5X"
      },
      "source": [
        "#Problema 3.4\r\n",
        "nom = 0\r\n",
        "print(\"Para finalizar el programa teclea -1 cuando un nuevo sueldo sea solicitado :3\")\r\n",
        "sue=float(input(\"Dame un sueldo \"))\r\n",
        "while (sue != -1):\r\n",
        "  if sue < 1000:\r\n",
        "    nsue= sue * 1.15\r\n",
        "  else:\r\n",
        "    nsue=sue * 1.12\r\n",
        "  nom= nom + nsue\r\n",
        "  print(f\"Este es su nuevo sueldo: {nsue}$\")\r\n",
        "  sue=float(input(\"Dame un sueldo \"))\r\n",
        "print(f\"Esta es la nómina: {nom}$\")"
      ],
      "execution_count": null,
      "outputs": []
    },
    {
      "cell_type": "code",
      "metadata": {
        "id": "W83eu3TzB25k"
      },
      "source": [
        "#Problema 3.5\r\n",
        "sumotr = 0\r\n",
        "sumpos = 0\r\n",
        "cuepos = 0\r\n",
        "n=int(input(\"Cuántos números ingresarás? \"))\r\n",
        "I=1\r\n",
        "while (I <= n):\r\n",
        "  num=int(input(\"Dame un número \"))\r\n",
        "  if num > 0:\r\n",
        "    sumpos = sumpos + num\r\n",
        "    cuepos = cuepos + 1\r\n",
        "  else:\r\n",
        "    sumotr = sumotr + num\r\n",
        "  I = I + 1\r\n",
        "progen = (sumpos + sumotr) / n\r\n",
        "propos = (sumpos) / (cuepos)\r\n",
        "print(f\"Este es el conteo de números positivos: {cuepos}, \\n Este es el promedio de los positivos: {propos} \\n Este es el promedio general: {progen} \")"
      ],
      "execution_count": null,
      "outputs": []
    },
    {
      "cell_type": "code",
      "metadata": {
        "id": "miexcSq3PfVE"
      },
      "source": [
        "#Problema 3.6\r\n",
        "may = -100000\r\n",
        "men = 100000\r\n",
        "n=int(input(\"Cuántos números ingresarás? \"))\r\n",
        "I=1\r\n",
        "while I <= n:\r\n",
        "  num=int(input(\"Dame un número \"))\r\n",
        "  if num > may:\r\n",
        "    may = num\r\n",
        "  if num < men:\r\n",
        "    men = num\r\n",
        "  I = I +1\r\n",
        "print(f\"El número mayor es: {may}, \\n El número menor es: {men}\")"
      ],
      "execution_count": null,
      "outputs": []
    },
    {
      "cell_type": "code",
      "metadata": {
        "id": "mXX176XgbDV6"
      },
      "source": [
        "#Problema 3.7\r\n",
        "med = 0\r\n",
        "chi = 0\r\n",
        "gra = 0\r\n",
        "I=1\r\n",
        "n= int(input(\"Ingrese el número de ventas realizadas: \"))\r\n",
        "while (I <= n):\r\n",
        "  v= float(input(\"Ingrese la venta \"))\r\n",
        "  if v <= 200:\r\n",
        "    chi = chi+1\r\n",
        "  elif v < 400:\r\n",
        "    med = med + 1\r\n",
        "  else:\r\n",
        "    gra = gra + 1\r\n",
        "  I = I + 1\r\n",
        "print(f\"Ventas menores: {chi} \\n Ventas regulares: {med} \\n Ventas mayores: {gra}\")"
      ],
      "execution_count": null,
      "outputs": []
    },
    {
      "cell_type": "code",
      "metadata": {
        "id": "tatMlM8yekUh"
      },
      "source": [
        "#Problema 3.8  \r\n",
        "numero= int(input(\"Ingrese el número: \"))\r\n",
        "valor = numero\r\n",
        "if (valor < 0):\r\n",
        "    print(\"El número debe ser un entero positivo UnU\")\r\n",
        "while (valor > 1):\r\n",
        "  if(valor % 2 == 0):\r\n",
        "    valor = (valor/2)\r\n",
        "    print(str(valor)+\"\")\r\n",
        "  else:\r\n",
        "    valor=(valor * 3) + 1\r\n",
        "    print(str(valor) + \"\")"
      ],
      "execution_count": null,
      "outputs": []
    },
    {
      "cell_type": "code",
      "metadata": {
        "id": "8W9RP9bxq0Ji"
      },
      "source": [
        "#Problema 3.9 \r\n",
        "serie = 0\r\n",
        "n = int(input(\"Indica un numero entero para empezar la serie \")) \r\n",
        "i = 1\r\n",
        "while i <= n:\r\n",
        "  serie = serie + i**i\r\n",
        "  i = i + 1\r\n",
        "print(f\"La suma de la serie es: {serie}\")"
      ],
      "execution_count": null,
      "outputs": []
    },
    {
      "cell_type": "code",
      "metadata": {
        "id": "X5EbunX-3IeE"
      },
      "source": [
        "#Problema 3.10\r\n",
        "pri=0\r\n",
        "seg=1\r\n",
        "I=3\r\n",
        "while I <= 180:\r\n",
        "  sig= pri + seg\r\n",
        "  pri= seg\r\n",
        "  seg= sig\r\n",
        "  I= I + 1\r\n",
        "print(sig)"
      ],
      "execution_count": null,
      "outputs": []
    },
    {
      "cell_type": "code",
      "metadata": {
        "id": "LJ3UrukVyJMf"
      },
      "source": [
        "#Problema 3.11\r\n",
        "can1 = 0\r\n",
        "can2 = 0\r\n",
        "can3 = 0\r\n",
        "can4 = 0\r\n",
        "voto = int(input(\"Ingrese su voto a candidato 1,2,3,4: \"))\r\n",
        "while voto != 0:\r\n",
        "  if voto > 4:\r\n",
        "    print(\"Debes introducir solo los postulados asignados\")\r\n",
        "  elif voto == 4:\r\n",
        "    can4 = can4 + 1\r\n",
        "  elif voto == 3:\r\n",
        "    can3 = can3 + 1\r\n",
        "  elif voto == 2:\r\n",
        "    can2 = can2 + 1\r\n",
        "  elif voto == 1:\r\n",
        "    can1 = can1 + 1\r\n",
        "  voto = int(input(\"Ingrese su voto a candidato 1,2,3,4: \"))\r\n",
        "sumv = can1 + can2 + can3 + can4\r\n",
        "por1 = (can1 / sumv) * 100\r\n",
        "por2 = (can2 / sumv) * 100\r\n",
        "por3 = (can3 / sumv) * 100\r\n",
        "por4 = (can4 / sumv) * 100\r\n",
        "\r\n",
        "print(\"El voto del candidato 1 es:\", [can1] ,\"y su porcentaje es: \",[por1], \"\\n El voto del candidato 2 es:\", [can2] ,\"y su porcentaje es: \",[por2])\r\n",
        "print(\"El voto del candidato 3 es:\", [can3] ,\"y su porcentaje es: \",[por3], \"\\n El voto del candidato 4 es:\", [can4] ,\"y su porcentaje es: \",[por4])\r\n",
        "print(\"Este es el total de votantes: \",[sumv])"
      ],
      "execution_count": null,
      "outputs": []
    },
    {
      "cell_type": "code",
      "metadata": {
        "id": "-jwgbWUHDHuU"
      },
      "source": [
        "#Problema 3.12 pag158\r\n",
        "masuel = 0\r\n",
        "n = int(input(\"Cuántos empleados son parte de la empresa?: \"))\r\n",
        "I = 1\r\n",
        "while I <= n:\r\n",
        "  numemp = int(input(\"Ingrese el num de empleado: \"))\r\n",
        "  sue = float(input(\"Cual es su sueldo? :\"))\r\n",
        "  if sue > masuel:\r\n",
        "    masuel = sue\r\n",
        "    manum = numemp\r\n",
        "  I = I + 1\r\n",
        "print(\"El empleado de mayor sueldo es el número: \", [manum], \"Y su sueldo es: \", [masuel], \"$\")"
      ],
      "execution_count": null,
      "outputs": []
    },
    {
      "cell_type": "code",
      "metadata": {
        "id": "dZJr9N_OOq6P"
      },
      "source": [
        "#Problema 3.13\r\n",
        "arsu = 0\r\n",
        "arno = 0\r\n",
        "mersu = 50000\r\n",
        "arce = 0\r\n",
        "I = 1\r\n",
        "while I <= 12:\r\n",
        "  rno = int(input(\"Cual fue la lluvia caída en el norte? \"))\r\n",
        "  rce = int(input(\"Cual fue la lluvia caída en el centro? \"))\r\n",
        "  rsu = int(input(\"Cual fue la lluvia caída en el sur? \"))\r\n",
        "  arno = arno + rno\r\n",
        "  arce = arce + rce\r\n",
        "  arsu = arsu + rsu\r\n",
        "  if rsu < mersu:\r\n",
        "    mersu = rsu\r\n",
        "    mes = I\r\n",
        "  I = I + 1\r\n",
        "prorce = arce / 12\r\n",
        "print(\"El promedio de la región central es: \", [prorce], \"El mes con menor lluvia en la region sur es: \", [mes], \"Este es el registro del mes: \", [mersu])\r\n",
        "if arno > arce:\r\n",
        "  if arno > arsu:\r\n",
        "    print(\"La región con mayor lluvia es la región norte.\")\r\n",
        "  else:\r\n",
        "    print(\"La región con mayor lluvia es la región sur.\")\r\n",
        "else:\r\n",
        "  if arce > arsu:\r\n",
        "    print(\"La región con mayor lluvia es la región centro.\")\r\n",
        "  else:\r\n",
        "    print(\"La región con mayor lluvia es la región sur.\")"
      ],
      "execution_count": null,
      "outputs": []
    },
    {
      "cell_type": "code",
      "metadata": {
        "id": "hqXanvzEUpZT"
      },
      "source": [
        "#Problema 3.14\r\n",
        "ap1 = 0\r\n",
        "ap2 = 0\r\n",
        "ap3 = 0\r\n",
        "ap4 = 0\r\n",
        "ap5 = 0\r\n",
        "recau = 0\r\n",
        "\r\n",
        "p1 = float(input(\"Ingrese cuánto vale la localidad 1 \"))\r\n",
        "p2 = float(input(\"Ingrese cuánto vale la localidad 2 \"))\r\n",
        "p3 = float(input(\"Ingrese cuánto vale la localidad 3 \"))\r\n",
        "p4 = float(input(\"Ingrese cuánto vale la localidad 4 \"))\r\n",
        "p5 = float(input(\"Ingrese cuánto vale la localidad 5 \"))\r\n",
        "\r\n",
        "clave = int(input(\"Qué localidad desea? \"))\r\n",
        "cant = int(input(\"Cuántos boletos comprará? \"))\r\n",
        "\r\n",
        "while (clave != -1 and cant != -1):\r\n",
        "  if clave == 1:\r\n",
        "    pre = p1 * cant\r\n",
        "    ap1 = ap1 + cant\r\n",
        "  elif clave == 2:\r\n",
        "    pre = p2 * cant\r\n",
        "    ap2 = ap2 + cant\r\n",
        "  elif clave == 3:\r\n",
        "    pre = p3 * cant\r\n",
        "    ap3 = ap3 + cant\r\n",
        "  elif clave == 4:\r\n",
        "    pre = p4 * cant\r\n",
        "    ap4 = ap4 + cant\r\n",
        "  elif clave == 5:\r\n",
        "    pre = p5 * cant\r\n",
        "    ap5 = ap5 + cant\r\n",
        "\r\n",
        "  print(\"Usted ha escogido \",cant,\" boletos para la localidad \",clave,\" y el precio es: \",pre,\"$\")\r\n",
        "\r\n",
        "  recau = recau + pre\r\n",
        "\r\n",
        "  clave = int(input(\"Qué localidad desea? \"))\r\n",
        "  cant = int(input(\"Cuántos boletos comprará? \"))\r\n",
        "\r\n",
        "print(\"*Cantidad de boletos tipo 1:\",ap1,\" *Cantidad de boletos tipo 2: \",ap2)\r\n",
        "print(\"*Cantidad de boletos tipo 3:\",ap3,\" *Cantidad de boletos tipo 4: \",ap4)\r\n",
        "print(\"*Cantidad de boletos tipo 5:\",ap5,\" *Recaudación del estado: \",recau)"
      ],
      "execution_count": null,
      "outputs": []
    },
    {
      "cell_type": "code",
      "metadata": {
        "id": "VX4LrXZUdoh4"
      },
      "source": [
        "#Problema 3.15 pag 168  \r\n",
        "cl = 0\r\n",
        "cuenta = 0\r\n",
        "tipo = str(input(\"¿Su llamada sera internacional, nacional y local? Digite solo su primera letra (I, N y L) \"))\r\n",
        "dur = int(input(\"¿Cual fue la duracion de la llamada? \"))\r\n",
        "while tipo != 'X' and dur != -1:\r\n",
        "  if tipo == 'I':\r\n",
        "    if dur > 3:\r\n",
        "      costo = 7.59 + ((dur - 3) * 3.03)\r\n",
        "    else:\r\n",
        "      costo = 7.59\r\n",
        "  elif tipo == 'N':\r\n",
        "    if dur > 3:\r\n",
        "      costo = 1.20 + ((dur - 3) * 0.48)\r\n",
        "    else:\r\n",
        "      costo = 1.20 \r\n",
        "  elif tipo == 'L':\r\n",
        "    cl = cl + 1\r\n",
        "    if cl > 50:\r\n",
        "      costo = 0.60\r\n",
        "    else:\r\n",
        "      costo = 0\r\n",
        "  else:\r\n",
        "    print(\"Solo hay 3 tipos de llamadas\" )\r\n",
        "  print(f\"El costo de la llamada fue {costo}\")\r\n",
        "  cuenta = cuenta + costo \r\n",
        "  tipo = str(input(\"¿Su llamada sera internacional, nacional y local? Digite solo su primera letra (I, N y L) \"))\r\n",
        "  dur = int(input(\"¿Cual fue la duracion de la llamada? \"))\r\n",
        "print(f\"El costo total de las llamadas es {cuenta}\")"
      ],
      "execution_count": null,
      "outputs": []
    },
    {
      "cell_type": "code",
      "metadata": {
        "id": "3JlZi6ZBnWyI"
      },
      "source": [
        "#Problema 3.16\r\n",
        "tipo1 = 0\r\n",
        "tipo2 = 0\r\n",
        "tipo3 = 0\r\n",
        "tipo4 = 0\r\n",
        "tipo5 = 0\r\n",
        "mctipo2 = 0\r\n",
        "I=0\r\n",
        "n = int(input(\"Ingrese el año a consultar: \"))\r\n",
        "I = I + 1\r\n",
        "\r\n",
        "while I <= n:\r\n",
        "  j = 1\r\n",
        "  totvin = 0\r\n",
        "  while j <= 5:\r\n",
        "    v = int(input(\"Cuántos litros de vino fueron? \"))\r\n",
        "    totvin = totvin + v\r\n",
        "    if j == 1:\r\n",
        "      tipo1 = tipo1 + v\r\n",
        "    elif j == 2:\r\n",
        "      tipo2 = tipo2 + v\r\n",
        "      if v > mctipo2:\r\n",
        "        mctipo2 = v\r\n",
        "        año = I\r\n",
        "    elif j == 3:\r\n",
        "      tipo3 = tipo3 + v\r\n",
        "      if v == 0:\r\n",
        "        print(\"El año: \",I,\"No se produjo vino tipo 3\")\r\n",
        "    elif j == 4:\r\n",
        "      tipo4 = tipo4 + v\r\n",
        "    elif j == 5:\r\n",
        "      tipo5 = tipo5 + v\r\n",
        "    j = j + 1\r\n",
        "  print(\"Total de litros producidos por año: \",totvin)\r\n",
        "  I = I + 1\r\n",
        "print(\"Total de tipo 1: \",tipo1,\"Total de tipo 2: \",tipo2,\"Total de tipo 3: \",tipo3,\"Total de tipo 4: \",tipo4,\"Total de tipo 5: \",tipo5)\r\n",
        "print(\"Año en que se produjo mayor cantidad de vino pipo 2: \",año,\" litros: \",mctipo2)"
      ],
      "execution_count": null,
      "outputs": []
    },
    {
      "cell_type": "code",
      "metadata": {
        "id": "yTJPmb9dtK4X"
      },
      "source": [
        "#Problema 3.17\r\n",
        "I = 3\r\n",
        "sp = 0\r\n",
        "m = int(input(\"Ingrese el número límite a revisar: \"))\r\n",
        "\r\n",
        "if m >= 1:\r\n",
        "  sp = sp + 1\r\n",
        "  print(\"Número primo: \",1)\r\n",
        "  if m >= 2:\r\n",
        "    sp = sp + 1\r\n",
        "    print(\"Número primo: \",2)\r\n",
        "while I <= m:\r\n",
        "  band = True\r\n",
        "  j = 3\r\n",
        "  while j < (I/2) and band == True:\r\n",
        "    if (I % j) == 0:\r\n",
        "      band = False\r\n",
        "    j = j + 2\r\n",
        "  else:\r\n",
        "    if band == True:\r\n",
        "      print(\"Número primo: \",1)\r\n",
        "      sp = sp + 1\r\n",
        "    I = I + 2\r\n",
        "print(\"Entre 1 y M hay: \",sp,\"Números primos\") "
      ],
      "execution_count": null,
      "outputs": []
    },
    {
      "cell_type": "code",
      "metadata": {
        "id": "Xl8r7NxMzc4o"
      },
      "source": [
        "#Problema 3.18  \r\n",
        "maypro = 0\r\n",
        "n = int(input(\"Ingresa cuántas fabricas están registradas: \"))\r\n",
        "if n <= 100:\r\n",
        "  I = 1\r\n",
        "  while I <= n:\r\n",
        "    fabrica = int(input(\"Cual es la clave de la fábrica ? \"))\r\n",
        "    \r\n",
        "    totanu = 0\r\n",
        "    j = 1\r\n",
        "    while j <= 12:\r\n",
        "      mes = int(input(\"Ingrese El mes a consultar: \"))\r\n",
        "      totanu = totanu + mes\r\n",
        "      if j == 7 and mes > 3000000:\r\n",
        "        print(fabrica)\r\n",
        "      j = j + 1\r\n",
        "    if totanu > maypro:\r\n",
        "      maypro = totanu\r\n",
        "      clave = fabrica\r\n",
        "    print(\"La producción anueal de la fábrica \",fabrica,\" es: $\",totanu)\r\n",
        "    I = I + 1\r\n",
        "else:\r\n",
        "  print(\"Error en número de fábricas \")"
      ],
      "execution_count": null,
      "outputs": []
    },
    {
      "cell_type": "code",
      "metadata": {
        "id": "r2ERuBi_znzU"
      },
      "source": [
        "#Problema 3.19  \r\n",
        "num = int(input(\"Ingrese el número límite a evaluar: \"))\r\n",
        "print(\"El número 1 es un número perfecto.\")\r\n",
        "for i in range (1,num):\r\n",
        "  cont = 0\r\n",
        "  j = 1\r\n",
        "  while j <= int(i/2):\r\n",
        "    if i % j == 0:\r\n",
        "      cont += j\r\n",
        "    j += 1\r\n",
        "  if cont == i:\r\n",
        "    print(f\"El número {i} es un número perfecto.\")"
      ],
      "execution_count": null,
      "outputs": []
    }
  ]
}