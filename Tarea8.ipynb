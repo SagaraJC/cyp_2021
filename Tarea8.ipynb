{
  "nbformat": 4,
  "nbformat_minor": 0,
  "metadata": {
    "colab": {
      "name": "Tarea8.ipynb",
      "provenance": [],
      "authorship_tag": "ABX9TyMEywUAKcM1aOBFZXLL2mMh",
      "include_colab_link": true
    },
    "kernelspec": {
      "name": "python3",
      "display_name": "Python 3"
    }
  },
  "cells": [
    {
      "cell_type": "markdown",
      "metadata": {
        "id": "view-in-github",
        "colab_type": "text"
      },
      "source": [
        "<a href=\"https://colab.research.google.com/github/SagaraJC/cyp_2021/blob/main/Tarea8.ipynb\" target=\"_parent\"><img src=\"https://colab.research.google.com/assets/colab-badge.svg\" alt=\"Open In Colab\"/></a>"
      ]
    },
    {
      "cell_type": "code",
      "metadata": {
        "colab": {
          "base_uri": "https://localhost:8080/"
        },
        "id": "vl9tbzObJdx5",
        "outputId": "855de96a-ff51-4d71-bcd0-a0038fb6e071"
      },
      "source": [
        "print(\"1 \\u25B3\\u25A3\\u25A3\\u25A3\\u25A3\\u25A3\\u25A3\\u25A3\\u25A3\\u25A3\\u25A3\\u25A3\\u25A3\\u25A3\\u25A3\\u25A3\\u25A3\\u25B3 \\n2 \\u25A3\\t\\t\\t    \\u25A3 \\n3 \\u25A3 \\u25C8\\u25C8\\u25C8 \\u25C8\\u25C8\\u25C8 \\u25C8\\u25C8  \\u25C8 \\u25C8   \\u25A3 \\n4 \\u25A3   \\u25C8  \\u25C8  \\u25C8 \\u25C8   \\u25C8 \\u25C8   \\u25A3 \\n5 \\u25A3   \\u25C8  \\u25C8  \\u25C8 \\u25C8\\u25C8  \\u25C8\\u25C8\\u25C8  \\u25A3 \\n6 \\u25A3   \\u25C8  \\u25C8  \\u25C8   \\u25C8  \\u25C8 \\u25C8  \\u25A3 \\n7 \\u25A3 \\u25C8\\u25C8   \\u25C8\\u25C8\\u25C8 \\u25C8\\u25C8  \\u25C8 \\u25C8  \\u25A3 \\n8 \\u25A3\\t\\t\\t    \\u25A3  \\n9 \\u25B3\\u25A3\\u25A3\\u25A3\\u25A3\\u25A3\\u25A3\\u25A3\\u25A3\\u25A3\\u25A3\\u25A3\\u25A3\\u25A3\\u25A3\\u25A3\\u25A3\\u25B3\")"
      ],
      "execution_count": 86,
      "outputs": [
        {
          "output_type": "stream",
          "text": [
            "1 △▣▣▣▣▣▣▣▣▣▣▣▣▣▣▣▣△ \n",
            "2 ▣\t\t\t    ▣ \n",
            "3 ▣ ◈◈◈ ◈◈◈ ◈◈  ◈ ◈   ▣ \n",
            "4 ▣   ◈  ◈  ◈ ◈   ◈ ◈   ▣ \n",
            "5 ▣   ◈  ◈  ◈ ◈◈  ◈◈◈  ▣ \n",
            "6 ▣   ◈  ◈  ◈   ◈  ◈ ◈  ▣ \n",
            "7 ▣ ◈◈   ◈◈◈ ◈◈  ◈ ◈  ▣ \n",
            "8 ▣\t\t\t    ▣  \n",
            "9 △▣▣▣▣▣▣▣▣▣▣▣▣▣▣▣▣△\n"
          ],
          "name": "stdout"
        }
      ]
    }
  ]
}